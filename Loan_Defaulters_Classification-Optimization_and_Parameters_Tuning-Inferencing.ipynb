{
 "cells": [
  {
   "cell_type": "markdown",
   "metadata": {},
   "source": [
    "About: Loan Defaulters Classifications with ensemble method\n",
    "Dataset1: Dataset link - https://archive.ics.uci.edu/ml/datasets/default+of+credit+card+clients\n",
    "\n",
    "Experimental Aim: To compare the performance of loan defaulters classifications with ensemble and dense aritificial neural network method\n",
    "\n",
    "Results: Performance accuracy\n",
    "\n",
    "Processses:\n",
    "- data analysis\n",
    "- outlier detection and removal\n",
    "- one-hot-encoding of category variables\n",
    "- multi-model learning and performance comparison using pipelines\n",
    "- model improvement with optimizations and hyperparameters tuning\n",
    "- Inferencing"
   ]
  },
  {
   "cell_type": "code",
   "execution_count": 332,
   "metadata": {},
   "outputs": [],
   "source": [
    "# set up\n",
    "\n",
    "import pandas as pd\n",
    "import numpy as np\n",
    "import matplotlib.pyplot as plt\n",
    "\n",
    "import tensorflow as tf\n",
    "from tensorflow import keras\n",
    "from tensorflow.keras import layers\n",
    "\n",
    "from IPython.display import clear_output\n",
    "import seaborn as sns\n",
    "\n",
    "from sklearn.model_selection import train_test_split\n",
    "from sklearn.metrics import accuracy_score, precision_score, recall_score, confusion_matrix, precision_recall_curve\n",
    "from sklearn.preprocessing import StandardScaler\n",
    "\n",
    "from sklearn.linear_model import LogisticRegression\n",
    "from sklearn.tree import DecisionTreeClassifier\n",
    "from sklearn import svm\n",
    "from sklearn.ensemble import AdaBoostClassifier\n",
    "from sklearn.ensemble import RandomForestClassifier\n",
    "from sklearn.neighbors import KNeighborsClassifier\n",
    "from sklearn.decomposition import PCA\n",
    "from sklearn.pipeline import Pipeline\n",
    "from sklearn import tree\n",
    "\n",
    "from sklearn import datasets, linear_model\n",
    "#import xgboost as xgb\n",
    "from sklearn.ensemble import RandomForestClassifier\n",
    "from scipy import stats"
   ]
  },
  {
   "cell_type": "markdown",
   "metadata": {},
   "source": [
    "## data upload and pre-processing\n",
    "- upload using pandas\n",
    "- preprocessing and engineering using using one-hot encoding"
   ]
  },
  {
   "cell_type": "code",
   "execution_count": 279,
   "metadata": {},
   "outputs": [
    {
     "data": {
      "text/html": [
       "<div>\n",
       "<style scoped>\n",
       "    .dataframe tbody tr th:only-of-type {\n",
       "        vertical-align: middle;\n",
       "    }\n",
       "\n",
       "    .dataframe tbody tr th {\n",
       "        vertical-align: top;\n",
       "    }\n",
       "\n",
       "    .dataframe thead th {\n",
       "        text-align: right;\n",
       "    }\n",
       "</style>\n",
       "<table border=\"1\" class=\"dataframe\">\n",
       "  <thead>\n",
       "    <tr style=\"text-align: right;\">\n",
       "      <th></th>\n",
       "      <th>ID</th>\n",
       "      <th>LIMIT_BAL</th>\n",
       "      <th>SEX</th>\n",
       "      <th>EDUCATION</th>\n",
       "      <th>MARRIAGE</th>\n",
       "      <th>AGE</th>\n",
       "      <th>PAY_0</th>\n",
       "      <th>PAY_2</th>\n",
       "      <th>PAY_3</th>\n",
       "      <th>PAY_4</th>\n",
       "      <th>...</th>\n",
       "      <th>BILL_AMT4</th>\n",
       "      <th>BILL_AMT5</th>\n",
       "      <th>BILL_AMT6</th>\n",
       "      <th>PAY_AMT1</th>\n",
       "      <th>PAY_AMT2</th>\n",
       "      <th>PAY_AMT3</th>\n",
       "      <th>PAY_AMT4</th>\n",
       "      <th>PAY_AMT5</th>\n",
       "      <th>PAY_AMT6</th>\n",
       "      <th>default_payment_next_month</th>\n",
       "    </tr>\n",
       "  </thead>\n",
       "  <tbody>\n",
       "    <tr>\n",
       "      <th>0</th>\n",
       "      <td>1</td>\n",
       "      <td>20000</td>\n",
       "      <td>2</td>\n",
       "      <td>2</td>\n",
       "      <td>1</td>\n",
       "      <td>24</td>\n",
       "      <td>2</td>\n",
       "      <td>2</td>\n",
       "      <td>-1</td>\n",
       "      <td>-1</td>\n",
       "      <td>...</td>\n",
       "      <td>0</td>\n",
       "      <td>0</td>\n",
       "      <td>0</td>\n",
       "      <td>0</td>\n",
       "      <td>689</td>\n",
       "      <td>0</td>\n",
       "      <td>0</td>\n",
       "      <td>0</td>\n",
       "      <td>0</td>\n",
       "      <td>1</td>\n",
       "    </tr>\n",
       "    <tr>\n",
       "      <th>1</th>\n",
       "      <td>2</td>\n",
       "      <td>120000</td>\n",
       "      <td>2</td>\n",
       "      <td>2</td>\n",
       "      <td>2</td>\n",
       "      <td>26</td>\n",
       "      <td>-1</td>\n",
       "      <td>2</td>\n",
       "      <td>0</td>\n",
       "      <td>0</td>\n",
       "      <td>...</td>\n",
       "      <td>3272</td>\n",
       "      <td>3455</td>\n",
       "      <td>3261</td>\n",
       "      <td>0</td>\n",
       "      <td>1000</td>\n",
       "      <td>1000</td>\n",
       "      <td>1000</td>\n",
       "      <td>0</td>\n",
       "      <td>2000</td>\n",
       "      <td>1</td>\n",
       "    </tr>\n",
       "  </tbody>\n",
       "</table>\n",
       "<p>2 rows × 25 columns</p>\n",
       "</div>"
      ],
      "text/plain": [
       "   ID  LIMIT_BAL  SEX  EDUCATION  MARRIAGE  AGE  PAY_0  PAY_2  PAY_3  PAY_4  \\\n",
       "0   1      20000    2          2         1   24      2      2     -1     -1   \n",
       "1   2     120000    2          2         2   26     -1      2      0      0   \n",
       "\n",
       "   ...  BILL_AMT4  BILL_AMT5  BILL_AMT6  PAY_AMT1  PAY_AMT2  PAY_AMT3  \\\n",
       "0  ...          0          0          0         0       689         0   \n",
       "1  ...       3272       3455       3261         0      1000      1000   \n",
       "\n",
       "   PAY_AMT4  PAY_AMT5  PAY_AMT6  default_payment_next_month  \n",
       "0         0         0         0                           1  \n",
       "1      1000         0      2000                           1  \n",
       "\n",
       "[2 rows x 25 columns]"
      ]
     },
     "execution_count": 279,
     "metadata": {},
     "output_type": "execute_result"
    }
   ],
   "source": [
    "# upload data dataframe \n",
    "df = pd.read_csv('default_of_credit_card_clients.csv', skiprows=1)\n",
    "data = df.dropna()      # removing rows with null values if any \n",
    "data = df.rename(columns= {'default payment next month': 'default_payment_next_month'})\n",
    "data.head(2)    # print sample frame by rows\n",
    "#data.columns\n",
    "#clear_output(wait=True)"
   ]
  },
  {
   "cell_type": "code",
   "execution_count": 284,
   "metadata": {},
   "outputs": [
    {
     "data": {
      "text/plain": [
       "Index(['SEX', 'EDUCATION', 'MARRIAGE'], dtype='object')"
      ]
     },
     "execution_count": 284,
     "metadata": {},
     "output_type": "execute_result"
    }
   ],
   "source": [
    "# identify and separate category/ continous variables\n",
    "\n",
    "num_var = data.drop(['SEX', 'EDUCATION', 'MARRIAGE'], axis = 1)\n",
    "\n",
    "cat_var = data.drop(['ID', 'LIMIT_BAL', 'AGE', 'PAY_0', 'PAY_2', 'PAY_3', 'PAY_4', 'PAY_5',\n",
    "       'PAY_6', 'BILL_AMT1', 'BILL_AMT2', 'BILL_AMT3', 'BILL_AMT4',\n",
    "       'BILL_AMT5', 'BILL_AMT6', 'PAY_AMT1', 'PAY_AMT2', 'PAY_AMT3',\n",
    "       'PAY_AMT4', 'PAY_AMT5', 'PAY_AMT6', 'default_payment_next_month'], axis =1)\n",
    "\n",
    "cat_var.head(2)\n",
    "cat_var.columns"
   ]
  },
  {
   "cell_type": "code",
   "execution_count": 301,
   "metadata": {},
   "outputs": [
    {
     "data": {
      "text/plain": [
       "(30000, 35)"
      ]
     },
     "execution_count": 301,
     "metadata": {},
     "output_type": "execute_result"
    }
   ],
   "source": [
    "# perform one-hot encoding for category variables\n",
    "\n",
    "# new generated category variables and data\n",
    "df = pd.concat([cat_var.drop('SEX', axis=1), pd.get_dummies(cat_var['SEX'],prefix='sex')], axis=1)\n",
    "df1 = pd.concat([df.drop('EDUCATION', axis=1), pd.get_dummies(df['EDUCATION'],prefix='edu')], axis=1)\n",
    "df2 = pd.concat([df1.drop('MARRIAGE', axis=1), pd.get_dummies(df['MARRIAGE'],prefix='married')], axis=1)\n",
    "\n",
    "# concatante category variable with numeric variables to have data1\n",
    "\n",
    "data1  = pd.concat([df2,num_var], axis = 1, sort = False)\n",
    "data1.head(2)\n",
    "data1.shape"
   ]
  },
  {
   "cell_type": "code",
   "execution_count": 308,
   "metadata": {},
   "outputs": [
    {
     "data": {
      "text/plain": [
       "50"
      ]
     },
     "execution_count": 308,
     "metadata": {},
     "output_type": "execute_result"
    }
   ],
   "source": [
    "# separate input and inference datasets\n",
    "\n",
    "input_sample = data1[data1['ID'] <=29950]          # training, test, and validation data\n",
    "inference_sample = data1[data1['ID']>29950]        # inference sample\n",
    "input_sample.head(2)\n",
    "len(inference_sample)\n"
   ]
  },
  {
   "cell_type": "markdown",
   "metadata": {},
   "source": [
    "## data exploratory analysis\n",
    "1. outlier removal\n",
    "- univariate approach\n",
    "- multivariate approach "
   ]
  },
  {
   "cell_type": "code",
   "execution_count": 309,
   "metadata": {},
   "outputs": [
    {
     "name": "stdout",
     "output_type": "stream",
     "text": [
      "AxesSubplot(0.125,0.125;0.775x0.755)\n"
     ]
    },
    {
     "data": {
      "image/png": "[encoded data removed]",
      "text/plain": [
       "<Figure size 432x288 with 1 Axes>"
      ]
     },
     "metadata": {
      "needs_background": "light"
     },
     "output_type": "display_data"
    }
   ],
   "source": [
    "# univariate plot appraoch to analysis\n",
    "\n",
    "import seaborn as sns\n",
    "dataplt =sns.boxplot(x=input_sample['AGE'])\n",
    "print(dataplt)"
   ]
  },
  {
   "cell_type": "code",
   "execution_count": 310,
   "metadata": {},
   "outputs": [
    {
     "data": {
      "image/png": "[encoded data removed]",
      "text/plain": [
       "<Figure size 1152x576 with 1 Axes>"
      ]
     },
     "metadata": {
      "needs_background": "light"
     },
     "output_type": "display_data"
    }
   ],
   "source": [
    "# multivariate plot approach of analysis\n",
    "\n",
    "fig, ax = plt.subplots(figsize=(16,8))\n",
    "ax.scatter(input_sample['AGE'], input_sample['LIMIT_BAL'])\n",
    "ax.set_xlabel('limit_bal')\n",
    "ax.set_ylabel('Age')\n",
    "plt.show()"
   ]
  },
  {
   "cell_type": "code",
   "execution_count": 315,
   "metadata": {},
   "outputs": [
    {
     "name": "stdout",
     "output_type": "stream",
     "text": [
      "AxesSubplot(0.125,0.125;0.775x0.755)\n",
      "(30000, 25)\n",
      "(29678, 35)\n"
     ]
    },
    {
     "data": {
      "image/png": "[encoded data removed]",
      "text/plain": [
       "<Figure size 432x288 with 1 Axes>"
      ]
     },
     "metadata": {
      "needs_background": "light"
     },
     "output_type": "display_data"
    }
   ],
   "source": [
    "# outlier removal, method 1: Univariate approach\n",
    "# removal based on age variable. the problem is in the choice of variable of interest for the analysis and removal\n",
    "\n",
    "data2 = input_sample[input_sample.AGE <=60]\n",
    "data2.shape[0]\n",
    "\n",
    "#visualisations\n",
    "data2plt = sns.boxplot(x=data2['AGE'])\n",
    "print(data2plt)\n",
    "\n",
    "print(data.shape)     # original data\n",
    "print(data2.shape)    # cleaned data\n"
   ]
  },
  {
   "cell_type": "code",
   "execution_count": 330,
   "metadata": {},
   "outputs": [
    {
     "data": {
      "text/plain": [
       "(29950, 34)"
      ]
     },
     "execution_count": 330,
     "metadata": {},
     "output_type": "execute_result"
    }
   ],
   "source": [
    "#train input(X) /target(y) features separation\n",
    "\n",
    "target_feat = 'default_payment_next_month'\n",
    "X = input_sample.drop(target_feat, axis = 1)\n",
    "y = input_sample[target_feat]\n",
    "X.shape"
   ]
  },
  {
   "cell_type": "code",
   "execution_count": 335,
   "metadata": {},
   "outputs": [
    {
     "name": "stdout",
     "output_type": "stream",
     "text": [
      "(array([    6,     6,     6, ..., 29939, 29943, 29944], dtype=int64), array([14, 22, 23, ..., 32, 14, 16], dtype=int64))\n",
      "(23759, 34)\n",
      "(29950, 34)\n",
      "(23759,)\n",
      "AxesSubplot(0.125,0.125;0.775x0.755)\n"
     ]
    },
    {
     "data": {
      "image/png": "[encoded data removed]",
      "text/plain": [
       "<Figure size 432x288 with 1 Axes>"
      ]
     },
     "metadata": {
      "needs_background": "light"
     },
     "output_type": "display_data"
    }
   ],
   "source": [
    "# outlier removal, method 2: multivariate approach\n",
    "# removal using zscore, best approach since it the distribution is checked for all variables\n",
    "\n",
    "# check the statistics\n",
    "z = np.abs(stats.zscore(X))\n",
    "#print(z)\n",
    "\n",
    "# detect outlier using at the threshold(between -2.5 and +2.5 interval)- 99% normal distribution confidence interval.\n",
    "thresh = 2.5\n",
    "print(np.where(z > thresh))\n",
    "\n",
    "# apply outlier removal to train dataset\n",
    "\n",
    "data_train = X[(z < 2.5).all(axis =1)]\n",
    "print(data_train.shape)      # clean data for training\n",
    "print(X.shape)               # unclean data\n",
    "\n",
    "# apply outlier removal to target dataset\n",
    "data_target = y[(z < 2.5).all(axis =1)]\n",
    "print(data_target.shape)\n",
    "\n",
    "# visualisation by age\n",
    "#visualisations\n",
    "data_train_plt = sns.boxplot(x=data_train['AGE'])\n",
    "print(data_train_plt)\n",
    "\n"
   ]
  },
  {
   "cell_type": "code",
   "execution_count": 337,
   "metadata": {},
   "outputs": [],
   "source": [
    "# perform train and validation test data split\n",
    "\n",
    "X_train, X_test, y_train, y_test = train_test_split(data_train, data_target, test_size=0.33, random_state=42)"
   ]
  },
  {
   "cell_type": "markdown",
   "metadata": {},
   "source": [
    "## model pipelines creations and learning"
   ]
  },
  {
   "cell_type": "code",
   "execution_count": 131,
   "metadata": {},
   "outputs": [],
   "source": [
    "# Construct learning pipelines for classification model\n",
    "\n",
    "#support vector machine\n",
    "pipe_svm = Pipeline([('p1', StandardScaler()),\n",
    "                      ('pca', PCA(n_components =20)),\n",
    "                      ('svm', svm.SVC(random_state = 5))])\n",
    "\n",
    "\n",
    "# logistic regression\n",
    "pipe_lr = Pipeline([('p2', StandardScaler()),\n",
    "                      ('pca', PCA(n_components =20)),\n",
    "                      ('lr', LogisticRegression(random_state=20))])\n",
    "\n",
    "# adaboost\n",
    "pipe_ab = Pipeline([('p3', StandardScaler()),\n",
    "                      ('pca', PCA(n_components =20)),\n",
    "                      ('ab', AdaBoostClassifier(n_estimators = 100, random_state = 20))])\n",
    "\n",
    "# decision tree\n",
    "pipe_dt = Pipeline([('p4', StandardScaler()),\n",
    "                      ('pca', PCA(n_components =20)),\n",
    "                      ('dt', tree.DecisionTreeClassifier(random_state=20))])\n",
    "\n",
    "\n",
    "# KNN\n",
    "pipe_knn = Pipeline([('p5', StandardScaler()),\n",
    "                      ('pca', PCA(n_components =20)),\n",
    "                      ('knn', KNeighborsClassifier(n_neighbors=6, metric='euclidean'))])\n",
    "\n",
    "# Random Forest (rf) network\n",
    "num_trees =100\n",
    "max_features = 5\n",
    "pipe_rf = Pipeline([('p6', StandardScaler()),\n",
    "                      ('pca', PCA(n_components =20)),\n",
    "                      ('rf', RandomForestClassifier(n_estimators=num_trees,\n",
    "                                                    max_features=max_features))])\n",
    "\n"
   ]
  },
  {
   "cell_type": "code",
   "execution_count": 338,
   "metadata": {},
   "outputs": [],
   "source": [
    "# create a list of pipeline and fit training data on it\n",
    "\n",
    "classifier_pipe = [pipe_svm, pipe_lr, pipe_ab, pipe_dt, pipe_knn, pipe_rf]\n",
    "\n",
    "# fit the training data on the classifier pipe\n",
    "\n",
    "for pipe in classifier_pipe:\n",
    "    pipe.fit(X_train, y_train)\n",
    "    "
   ]
  },
  {
   "cell_type": "code",
   "execution_count": 340,
   "metadata": {},
   "outputs": [
    {
     "name": "stdout",
     "output_type": "stream",
     "text": [
      "svm accuracy on test data: 0.817\n",
      "lr accuracy on test data: 0.806\n",
      "adaboost accuracy on test data: 0.804\n",
      "dt accuracy on test data: 0.717\n",
      "knn accuracy on test data: 0.799\n",
      "rf accuracy on test data: 0.811\n"
     ]
    }
   ],
   "source": [
    "# Performance of existing pipelines on test cases\n",
    "\n",
    "#create dictionary of pipeline classifiers\n",
    "pipe_dic = {0: 'svm', 1: 'lr',\n",
    "2:'adaboost', 3:'dt', 4: 'knn', 5: 'rf'}\n",
    "\n",
    "# test the performance on test set\n",
    "for indx, val in enumerate(classifier_pipe):\n",
    "    print ('%s accuracy on test data: %.3f' % (pipe_dic[indx], val.score(X_test,y_test)))\n"
   ]
  },
  {
   "cell_type": "code",
   "execution_count": 342,
   "metadata": {},
   "outputs": [
    {
     "name": "stdout",
     "output_type": "stream",
     "text": [
      "svm Classifier has the best accuracy of 0.82\n"
     ]
    }
   ],
   "source": [
    "# Best classifier selection\n",
    "\n",
    "best_accuracy = 0\n",
    "best_classifier = 0\n",
    "best_pipeline = ''\n",
    "for indx, val in enumerate(classifier_pipe):\n",
    "    if val.score(X_test, y_test) > best_accuracy:\n",
    "        best_accuracy = val.score(X_test, y_test)\n",
    "        best_pipeline = val\n",
    "        best_classifier = indx\n",
    "        print('%s Classifier has the best accuracy of %.2f' %\n",
    "              (pipe_dic[best_classifier],best_accuracy))"
   ]
  },
  {
   "cell_type": "markdown",
   "metadata": {},
   "source": [
    "## model improvement using Hyperparameter Optimizations"
   ]
  },
  {
   "cell_type": "code",
   "execution_count": 344,
   "metadata": {},
   "outputs": [],
   "source": [
    "# finding the best model parameters\n",
    "\n",
    "model_params = {\n",
    "    'pipe_svm': {\n",
    "        'model': svm.SVC(gamma ='auto'),\n",
    "        'params': {\n",
    "            'C': [1,10,20],\n",
    "            'kernel': ['rbf','linear']\n",
    "        }\n",
    "    },\n",
    "    'pipe_lr': {\n",
    "        'model': LogisticRegression(solver='liblinear', multi_class='auto'),\n",
    "        'params': {\n",
    "            'C': [1, 2, 5]\n",
    "        }\n",
    "    },\n",
    "    \n",
    "}"
   ]
  },
  {
   "cell_type": "code",
   "execution_count": null,
   "metadata": {},
   "outputs": [],
   "source": [
    "# optimiztion - model parameters selection\n",
    "scores = []\n",
    "\n",
    "for model_name,xp in model_params.items():\n",
    "    clf = GridSearchCV(xp['model'], xp['params'], cv=3, return_train_score=False)\n",
    "    clf.fit(X_train, y_train)\n",
    "    scores.append({\n",
    "        'model': model_name,\n",
    "        'best_score': clf.best_score_,\n",
    "        'best_params': clf.best_params_\n",
    "    })\n",
    "    "
   ]
  },
  {
   "cell_type": "code",
   "execution_count": 172,
   "metadata": {},
   "outputs": [
    {
     "name": "stdout",
     "output_type": "stream",
     "text": [
      "      model  best_score                 best_params\n",
      "0  pipe_svm    0.824186  {'C': 20, 'kernel': 'rbf'}\n",
      "1   pipe_lr    0.781897                    {'C': 5}\n"
     ]
    }
   ],
   "source": [
    "# print best parameters\n",
    "df = pd.DataFrame(scores)\n",
    "print(df)"
   ]
  },
  {
   "cell_type": "markdown",
   "metadata": {},
   "source": [
    "## training and model inferencing using best selected model params"
   ]
  },
  {
   "cell_type": "code",
   "execution_count": 179,
   "metadata": {},
   "outputs": [
    {
     "data": {
      "text/plain": [
       "LogisticRegression()"
      ]
     },
     "execution_count": 179,
     "metadata": {},
     "output_type": "execute_result"
    }
   ],
   "source": [
    "# Build and fit Logistic Regression model\n",
    "\n",
    "logistic_mdl = LogisticRegression()\n",
    "logistic_mdl.fit(X_train, y_train)"
   ]
  },
  {
   "cell_type": "code",
   "execution_count": 178,
   "metadata": {},
   "outputs": [
    {
     "name": "stdout",
     "output_type": "stream",
     "text": [
      "0.7879714576962283\n"
     ]
    },
    {
     "data": {
      "text/html": [
       "<div>\n",
       "<style scoped>\n",
       "    .dataframe tbody tr th:only-of-type {\n",
       "        vertical-align: middle;\n",
       "    }\n",
       "\n",
       "    .dataframe tbody tr th {\n",
       "        vertical-align: top;\n",
       "    }\n",
       "\n",
       "    .dataframe thead th {\n",
       "        text-align: right;\n",
       "    }\n",
       "</style>\n",
       "<table border=\"1\" class=\"dataframe\">\n",
       "  <thead>\n",
       "    <tr style=\"text-align: right;\">\n",
       "      <th>col_0</th>\n",
       "      <th>0</th>\n",
       "      <th>1</th>\n",
       "    </tr>\n",
       "    <tr>\n",
       "      <th>default_payment_next_month</th>\n",
       "      <th></th>\n",
       "      <th></th>\n",
       "    </tr>\n",
       "  </thead>\n",
       "  <tbody>\n",
       "    <tr>\n",
       "      <th>0</th>\n",
       "      <td>792</td>\n",
       "      <td>129</td>\n",
       "    </tr>\n",
       "    <tr>\n",
       "      <th>1</th>\n",
       "      <td>287</td>\n",
       "      <td>754</td>\n",
       "    </tr>\n",
       "  </tbody>\n",
       "</table>\n",
       "</div>"
      ],
      "text/plain": [
       "col_0                         0    1\n",
       "default_payment_next_month          \n",
       "0                           792  129\n",
       "1                           287  754"
      ]
     },
     "execution_count": 178,
     "metadata": {},
     "output_type": "execute_result"
    }
   ],
   "source": [
    "# Inference with the best validation acruacy\n",
    "\n",
    "y_predict_reg = logistic_mdl.predict(x_test)\n",
    "print(accuracy_score(y_test,y_predict_reg))\n",
    "\n",
    "# matrix visualisation of loan defaulters ( default payment: 1 = Yes , 0 = No)\n",
    "pd.crosstab(y_test,y_predict_reg)\n"
   ]
  }
 ],
 "metadata": {
  "kernelspec": {
   "display_name": "Python 3",
   "language": "python",
   "name": "python3"
  },
  "language_info": {
   "codemirror_mode": {
    "name": "ipython",
    "version": 3
   },
   "file_extension": ".py",
   "mimetype": "text/x-python",
   "name": "python",
   "nbconvert_exporter": "python",
   "pygments_lexer": "ipython3",
   "version": "3.7.6"
  }
 },
 "nbformat": 4,
 "nbformat_minor": 4
}
