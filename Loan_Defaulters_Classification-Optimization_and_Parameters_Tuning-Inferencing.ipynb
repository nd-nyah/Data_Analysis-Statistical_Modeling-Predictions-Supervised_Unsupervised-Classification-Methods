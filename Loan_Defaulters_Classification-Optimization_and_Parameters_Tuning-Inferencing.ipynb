{
 "cells": [
  {
   "cell_type": "markdown",
   "metadata": {},
   "source": [
    "About: Loan Defaulters Classifications\n",
    "Dataset1: Dataset link - https://archive.ics.uci.edu/ml/datasets/default+of+credit+card+clients\n",
    "\n",
    "Experimental Aim: To compare the performance of loan defaulters classifications using ML classifiers and neural  network\n",
    "\n",
    "Results: Performance accuracy\n",
    "\n",
    "Processses:\n",
    "- exploratory data analysis\n",
    "- multi-model learning and performance comparison\n"
   ]
  },
  {
   "cell_type": "code",
   "execution_count": 81,
   "metadata": {},
   "outputs": [],
   "source": [
    "# set up\n",
    "\n",
    "import pandas as pd\n",
    "import numpy as np\n",
    "import matplotlib.pyplot as plt\n",
    "\n",
    "import tensorflow as tf\n",
    "from tensorflow import keras\n",
    "from tensorflow.keras import layers\n",
    "\n",
    "from IPython.display import clear_output\n",
    "import seaborn as sns\n",
    "\n",
    "from sklearn.model_selection import GridSearchCV\n",
    "from sklearn.model_selection import RandomizedSearchCV\n",
    "from sklearn.model_selection import train_test_split\n",
    "from sklearn.metrics import accuracy_score, precision_score, recall_score, confusion_matrix, precision_recall_curve\n",
    "from sklearn.preprocessing import StandardScaler, MinMaxScaler\n",
    "\n",
    "from sklearn.linear_model import LogisticRegression\n",
    "from sklearn.tree import DecisionTreeClassifier\n",
    "from sklearn import svm\n",
    "from sklearn.ensemble import AdaBoostClassifier\n",
    "from sklearn.ensemble import RandomForestClassifier\n",
    "from sklearn.neighbors import KNeighborsClassifier\n",
    "from sklearn.decomposition import PCA\n",
    "from sklearn.pipeline import Pipeline\n",
    "from sklearn import tree\n",
    "\n",
    "from sklearn import datasets, linear_model\n",
    "#import xgboost as xgb\n",
    "from sklearn.ensemble import RandomForestClassifier\n",
    "from scipy import stats\n",
    "from sklearn.ensemble import ExtraTreesClassifier\n",
    "\n",
    "#set fiqure size to control all plt plottings\n",
    "plt.rcParams['figure.figsize']=(10,5)"
   ]
  },
  {
   "cell_type": "code",
   "execution_count": 4,
   "metadata": {},
   "outputs": [],
   "source": [
    "from time import sleep\n",
    "from joblib import Parallel, delayed"
   ]
  },
  {
   "cell_type": "markdown",
   "metadata": {},
   "source": [
    "## data upload and pre-processing\n",
    "- upload using pandas\n",
    "- preprocessing and engineering using one-hot encoding"
   ]
  },
  {
   "cell_type": "code",
   "execution_count": 58,
   "metadata": {},
   "outputs": [
    {
     "data": {
      "text/html": [
       "<div>\n",
       "<style scoped>\n",
       "    .dataframe tbody tr th:only-of-type {\n",
       "        vertical-align: middle;\n",
       "    }\n",
       "\n",
       "    .dataframe tbody tr th {\n",
       "        vertical-align: top;\n",
       "    }\n",
       "\n",
       "    .dataframe thead th {\n",
       "        text-align: right;\n",
       "    }\n",
       "</style>\n",
       "<table border=\"1\" class=\"dataframe\">\n",
       "  <thead>\n",
       "    <tr style=\"text-align: right;\">\n",
       "      <th></th>\n",
       "      <th>ID</th>\n",
       "      <th>LIMIT_BAL</th>\n",
       "      <th>SEX</th>\n",
       "      <th>EDUCATION</th>\n",
       "      <th>MARRIAGE</th>\n",
       "      <th>AGE</th>\n",
       "      <th>PAY_0</th>\n",
       "      <th>PAY_2</th>\n",
       "      <th>PAY_3</th>\n",
       "      <th>PAY_4</th>\n",
       "      <th>...</th>\n",
       "      <th>BILL_AMT4</th>\n",
       "      <th>BILL_AMT5</th>\n",
       "      <th>BILL_AMT6</th>\n",
       "      <th>PAY_AMT1</th>\n",
       "      <th>PAY_AMT2</th>\n",
       "      <th>PAY_AMT3</th>\n",
       "      <th>PAY_AMT4</th>\n",
       "      <th>PAY_AMT5</th>\n",
       "      <th>PAY_AMT6</th>\n",
       "      <th>default payment next month</th>\n",
       "    </tr>\n",
       "  </thead>\n",
       "  <tbody>\n",
       "    <tr>\n",
       "      <th>0</th>\n",
       "      <td>1</td>\n",
       "      <td>20000</td>\n",
       "      <td>2</td>\n",
       "      <td>2</td>\n",
       "      <td>1</td>\n",
       "      <td>24</td>\n",
       "      <td>2</td>\n",
       "      <td>2</td>\n",
       "      <td>-1</td>\n",
       "      <td>-1</td>\n",
       "      <td>...</td>\n",
       "      <td>0</td>\n",
       "      <td>0</td>\n",
       "      <td>0</td>\n",
       "      <td>0</td>\n",
       "      <td>689</td>\n",
       "      <td>0</td>\n",
       "      <td>0</td>\n",
       "      <td>0</td>\n",
       "      <td>0</td>\n",
       "      <td>1</td>\n",
       "    </tr>\n",
       "    <tr>\n",
       "      <th>1</th>\n",
       "      <td>2</td>\n",
       "      <td>120000</td>\n",
       "      <td>2</td>\n",
       "      <td>2</td>\n",
       "      <td>2</td>\n",
       "      <td>26</td>\n",
       "      <td>-1</td>\n",
       "      <td>2</td>\n",
       "      <td>0</td>\n",
       "      <td>0</td>\n",
       "      <td>...</td>\n",
       "      <td>3272</td>\n",
       "      <td>3455</td>\n",
       "      <td>3261</td>\n",
       "      <td>0</td>\n",
       "      <td>1000</td>\n",
       "      <td>1000</td>\n",
       "      <td>1000</td>\n",
       "      <td>0</td>\n",
       "      <td>2000</td>\n",
       "      <td>1</td>\n",
       "    </tr>\n",
       "  </tbody>\n",
       "</table>\n",
       "<p>2 rows × 25 columns</p>\n",
       "</div>"
      ],
      "text/plain": [
       "   ID  LIMIT_BAL  SEX  EDUCATION  MARRIAGE  AGE  PAY_0  PAY_2  PAY_3  PAY_4  \\\n",
       "0   1      20000    2          2         1   24      2      2     -1     -1   \n",
       "1   2     120000    2          2         2   26     -1      2      0      0   \n",
       "\n",
       "   ...  BILL_AMT4  BILL_AMT5  BILL_AMT6  PAY_AMT1  PAY_AMT2  PAY_AMT3  \\\n",
       "0  ...          0          0          0         0       689         0   \n",
       "1  ...       3272       3455       3261         0      1000      1000   \n",
       "\n",
       "   PAY_AMT4  PAY_AMT5  PAY_AMT6  default payment next month  \n",
       "0         0         0         0                           1  \n",
       "1      1000         0      2000                           1  \n",
       "\n",
       "[2 rows x 25 columns]"
      ]
     },
     "execution_count": 58,
     "metadata": {},
     "output_type": "execute_result"
    }
   ],
   "source": [
    "# upload data dataframe \n",
    "df = pd.read_csv('default_of_credit_card_clients.csv', skiprows=1)\n",
    "     # removing rows with null values if any \n",
    "df.head(2)    # print sample frame by rows\n",
    "#df.columns"
   ]
  },
  {
   "cell_type": "code",
   "execution_count": 61,
   "metadata": {},
   "outputs": [
    {
     "data": {
      "text/plain": [
       "Index(['ID', 'LIMIT_BAL', 'AGE', 'PAY_0', 'PAY_2', 'PAY_3', 'PAY_4', 'PAY_5',\n",
       "       'PAY_6', 'BILL_AMT1', 'BILL_AMT2', 'BILL_AMT3', 'BILL_AMT4',\n",
       "       'BILL_AMT5', 'BILL_AMT6', 'PAY_AMT1', 'PAY_AMT2', 'PAY_AMT3',\n",
       "       'PAY_AMT4', 'PAY_AMT5', 'PAY_AMT6', 'default_payment', 'sex_1', 'sex_2',\n",
       "       'edu_0', 'edu_1', 'edu_2', 'edu_3', 'edu_4', 'edu_5', 'edu_6',\n",
       "       'married_0', 'married_1', 'married_2', 'married_3'],\n",
       "      dtype='object')"
      ]
     },
     "execution_count": 61,
     "metadata": {},
     "output_type": "execute_result"
    }
   ],
   "source": [
    "# perform one-hot encoding for category variables\n",
    "\n",
    "# generate numeric variables from category variables\n",
    "df1 = pd.concat([df.drop('SEX', axis=1), pd.get_dummies(df['SEX'],prefix='sex')], axis=1)\n",
    "df2 = pd.concat([df1.drop('EDUCATION', axis=1), pd.get_dummies(df1['EDUCATION'],prefix='edu')], axis=1)\n",
    "df3 = pd.concat([df2.drop('MARRIAGE', axis=1), pd.get_dummies(df2['MARRIAGE'],prefix='married')], axis=1)\n",
    "data1 = df3.rename(columns= {'default payment next month': 'default_payment'})\n",
    "data1.columns"
   ]
  },
  {
   "cell_type": "code",
   "execution_count": 67,
   "metadata": {},
   "outputs": [
    {
     "data": {
      "text/html": [
       "<div>\n",
       "<style scoped>\n",
       "    .dataframe tbody tr th:only-of-type {\n",
       "        vertical-align: middle;\n",
       "    }\n",
       "\n",
       "    .dataframe tbody tr th {\n",
       "        vertical-align: top;\n",
       "    }\n",
       "\n",
       "    .dataframe thead th {\n",
       "        text-align: right;\n",
       "    }\n",
       "</style>\n",
       "<table border=\"1\" class=\"dataframe\">\n",
       "  <thead>\n",
       "    <tr style=\"text-align: right;\">\n",
       "      <th></th>\n",
       "      <th>LIMIT_BAL</th>\n",
       "      <th>AGE</th>\n",
       "      <th>PAY_0</th>\n",
       "      <th>PAY_2</th>\n",
       "      <th>PAY_3</th>\n",
       "      <th>PAY_4</th>\n",
       "      <th>PAY_5</th>\n",
       "      <th>PAY_6</th>\n",
       "      <th>BILL_AMT1</th>\n",
       "      <th>BILL_AMT2</th>\n",
       "      <th>...</th>\n",
       "      <th>default_payment</th>\n",
       "      <th>sex_1</th>\n",
       "      <th>sex_2</th>\n",
       "      <th>edu_1</th>\n",
       "      <th>edu_2</th>\n",
       "      <th>edu_3</th>\n",
       "      <th>edu_4</th>\n",
       "      <th>married_1</th>\n",
       "      <th>married_2</th>\n",
       "      <th>married_3</th>\n",
       "    </tr>\n",
       "  </thead>\n",
       "  <tbody>\n",
       "    <tr>\n",
       "      <th>0</th>\n",
       "      <td>20000</td>\n",
       "      <td>24</td>\n",
       "      <td>2</td>\n",
       "      <td>2</td>\n",
       "      <td>-1</td>\n",
       "      <td>-1</td>\n",
       "      <td>-2</td>\n",
       "      <td>-2</td>\n",
       "      <td>3913</td>\n",
       "      <td>3102</td>\n",
       "      <td>...</td>\n",
       "      <td>1</td>\n",
       "      <td>0</td>\n",
       "      <td>1</td>\n",
       "      <td>0</td>\n",
       "      <td>1</td>\n",
       "      <td>0</td>\n",
       "      <td>0</td>\n",
       "      <td>1</td>\n",
       "      <td>0</td>\n",
       "      <td>0</td>\n",
       "    </tr>\n",
       "    <tr>\n",
       "      <th>1</th>\n",
       "      <td>120000</td>\n",
       "      <td>26</td>\n",
       "      <td>-1</td>\n",
       "      <td>2</td>\n",
       "      <td>0</td>\n",
       "      <td>0</td>\n",
       "      <td>0</td>\n",
       "      <td>2</td>\n",
       "      <td>2682</td>\n",
       "      <td>1725</td>\n",
       "      <td>...</td>\n",
       "      <td>1</td>\n",
       "      <td>0</td>\n",
       "      <td>1</td>\n",
       "      <td>0</td>\n",
       "      <td>1</td>\n",
       "      <td>0</td>\n",
       "      <td>0</td>\n",
       "      <td>0</td>\n",
       "      <td>1</td>\n",
       "      <td>0</td>\n",
       "    </tr>\n",
       "  </tbody>\n",
       "</table>\n",
       "<p>2 rows × 30 columns</p>\n",
       "</div>"
      ],
      "text/plain": [
       "   LIMIT_BAL  AGE  PAY_0  PAY_2  PAY_3  PAY_4  PAY_5  PAY_6  BILL_AMT1  \\\n",
       "0      20000   24      2      2     -1     -1     -2     -2       3913   \n",
       "1     120000   26     -1      2      0      0      0      2       2682   \n",
       "\n",
       "   BILL_AMT2  ...  default_payment  sex_1  sex_2  edu_1  edu_2  edu_3  edu_4  \\\n",
       "0       3102  ...                1      0      1      0      1      0      0   \n",
       "1       1725  ...                1      0      1      0      1      0      0   \n",
       "\n",
       "   married_1  married_2  married_3  \n",
       "0          1          0          0  \n",
       "1          0          1          0  \n",
       "\n",
       "[2 rows x 30 columns]"
      ]
     },
     "execution_count": 67,
     "metadata": {},
     "output_type": "execute_result"
    }
   ],
   "source": [
    "# data cleaning based on the key requirements\n",
    "\n",
    "remov= ['ID', 'edu_0', 'edu_5','edu_6', 'married_0']\n",
    "credit_data = data1.drop(remov, axis = 1)\n",
    "credit_data.head(2)"
   ]
  },
  {
   "cell_type": "markdown",
   "metadata": {},
   "source": [
    "## exploratory data analysis\n",
    "1. outlier removal\n",
    "- univariate approach\n",
    "- multivariate approach "
   ]
  },
  {
   "cell_type": "code",
   "execution_count": 86,
   "metadata": {},
   "outputs": [
    {
     "name": "stdout",
     "output_type": "stream",
     "text": [
      "<seaborn.axisgrid.FacetGrid object at 0x0000012C85C5B388>\n"
     ]
    },
    {
     "data": {
      "image/png": "[encoded data removed]",
      "text/plain": [
       "<Figure size 360x360 with 1 Axes>"
      ]
     },
     "metadata": {
      "needs_background": "light"
     },
     "output_type": "display_data"
    }
   ],
   "source": [
    "# percentage class distribution among variables\n",
    "\n",
    "import seaborn as sns\n",
    "dataplt =sns.displot(credit_data['default_payment'])\n",
    "print(dataplt)"
   ]
  },
  {
   "cell_type": "code",
   "execution_count": 100,
   "metadata": {},
   "outputs": [
    {
     "data": {
      "text/plain": [
       "<AxesSubplot:>"
      ]
     },
     "execution_count": 100,
     "metadata": {},
     "output_type": "execute_result"
    },
    {
     "data": {
      "image/png": "[encoded data removed]",
      "text/plain": [
       "<Figure size 720x360 with 2 Axes>"
      ]
     },
     "metadata": {
      "needs_background": "light"
     },
     "output_type": "display_data"
    }
   ],
   "source": [
    "# heatmap showing correlations between variables\n",
    "sns.heatmap(credit_data.corr())\n",
    "\n",
    "# there is positive and negative correlations between variables\n",
    "# this will require features correction selection\n"
   ]
  },
  {
   "cell_type": "code",
   "execution_count": 75,
   "metadata": {},
   "outputs": [
    {
     "data": {
      "image/png": "[encoded data removed]",
      "text/plain": [
       "<Figure size 720x360 with 1 Axes>"
      ]
     },
     "metadata": {
      "needs_background": "light"
     },
     "output_type": "display_data"
    }
   ],
   "source": [
    "# input and target data separation\n",
    "targetname = 'default_payment'\n",
    "X = credit_data.drop(targetname, axis =1)\n",
    "y = credit_data[targetname]\n",
    "\n",
    "# variables fitting with random state declared to ensure reproducibility of result\n",
    "feat_model = ExtraTreesClassifier(n_estimators=100, random_state=0, criterion = 'entropy')\n",
    "feat_model1 = feat_model.fit(X,y)\n",
    "\n",
    "# performance score evaluation\n",
    "#print('Feature Selection Score is: {0:0.2f}'.format(perf_selection))\n",
    "\n",
    "#visualisation of features importance, nlargest number can be changed to the desire number of features needed\n",
    "feat_importances = pd.Series(feat_model.feature_importances_,index=X.columns)    # track all columns by score ranks\n",
    "feat_importances.nlargest(18).plot(kind='barh')         # filtered only best selected columns by score values\n",
    "plt.show()"
   ]
  },
  {
   "cell_type": "code",
   "execution_count": 82,
   "metadata": {},
   "outputs": [
    {
     "name": "stdout",
     "output_type": "stream",
     "text": [
      "Index(['PAY_0', 'LIMIT_BAL', 'AGE', 'BILL_AMT1', 'BILL_AMT2', 'PAY_AMT6',\n",
      "       'BILL_AMT3', 'BILL_AMT4', 'BILL_AMT6', 'PAY_AMT1', 'PAY_2', 'BILL_AMT5',\n",
      "       'PAY_AMT2', 'PAY_AMT5'],\n",
      "      dtype='object')\n"
     ]
    }
   ],
   "source": [
    "# select the best features with largest possible score pairwise correlection metrics\n",
    "\n",
    "n = 14        # number of best features of interest\n",
    "            # this can be used as a parameter to monitor classification performance\n",
    "   \n",
    "X_dt =credit_data[feat_importances.nlargest(n).index] # derived features from decision tree (X_dt)\n",
    "print(X_dt.columns)     # to see the best selected features\n",
    "\n",
    "# scaling and tranformation of input features(X)\n",
    "\n",
    "#StandardScaler = StandardScaler()\n",
    "MinMax_Scaler = MinMaxScaler()\n",
    "X11 = MinMax_Scaler.fit_transform(X_dt)\n",
    "X1 = stats.zscore(X11)    # normalises input data using mean and std derived from the data \n",
    "y1 = y     # target variable (Sale)"
   ]
  },
  {
   "cell_type": "code",
   "execution_count": 97,
   "metadata": {},
   "outputs": [
    {
     "name": "stdout",
     "output_type": "stream",
     "text": [
      "21000\n",
      "6300\n",
      "1890\n",
      "810\n"
     ]
    },
    {
     "data": {
      "text/plain": [
       "12573"
      ]
     },
     "execution_count": 97,
     "metadata": {},
     "output_type": "execute_result"
    }
   ],
   "source": [
    "# Data splits\n",
    "\n",
    "# perform train (70%) and validation test(30%) data split\n",
    "X_train, X_testn, y_train, y_testn = train_test_split(X1, y1, test_size=0.3, random_state=42)\n",
    "print(len(X_train))    # output from row 2 train dataset\n",
    "\n",
    "# additional test dataset for statistical check\n",
    "X_test1, X_test2n, y_test1, y_test2n = train_test_split(X_testn, y_testn, test_size=0.3, random_state=42)\n",
    "print(len(X_test1))\n",
    "\n",
    "X_test2, X_test3, y_test2, y_test3 = train_test_split(X_test2n, y_test2n, test_size=0.3, random_state=42)\n",
    "print(len(X_test2))\n",
    "print(len(X_test3))\n",
    "y_test3.index[26]"
   ]
  },
  {
   "cell_type": "code",
   "execution_count": 93,
   "metadata": {},
   "outputs": [],
   "source": [
    "# Construct learning pipelines for classification model\n",
    "\n",
    "#support vector machine\n",
    "pipe_svm = Pipeline([('p1', MinMaxScaler()),\n",
    "                      ('svm', svm.SVC(random_state = 5))])\n",
    "\n",
    "# logistic regression\n",
    "pipe_lr = Pipeline([('p2', MinMaxScaler()),\n",
    "                     ('lr', LogisticRegression(random_state=20))])\n",
    "\n",
    "# adaboost\n",
    "pipe_ada = Pipeline([('p3', MinMaxScaler()),\n",
    "                      ('ada', AdaBoostClassifier(n_estimators = 100, random_state = 20))])\n",
    "\n",
    "# KNN\n",
    "pipe_knn = Pipeline([('p4', MinMaxScaler()),\n",
    "                      ('knn', KNeighborsClassifier(n_neighbors=6, metric='euclidean'))])\n",
    "\n",
    "# Random Forest (rf) network\n",
    "num_trees =100\n",
    "max_features = 14\n",
    "pipe_rf = Pipeline([('p5', MinMaxScaler()),\n",
    "                      ('rf', RandomForestClassifier(n_estimators=num_trees,\n",
    "                                                    max_features=max_features))])\n",
    "\n",
    "# create a list of pipeline and fit training data on it\n",
    "\n",
    "classifier_pipe = [pipe_svm, pipe_lr, pipe_ada, pipe_knn, pipe_rf]\n",
    "\n",
    "# fit the training data on the classifier pipe\n",
    "\n",
    "for pipe in classifier_pipe:\n",
    "    pipe.fit(X_train, y_train)\n",
    "    "
   ]
  },
  {
   "cell_type": "code",
   "execution_count": 94,
   "metadata": {},
   "outputs": [
    {
     "data": {
      "text/html": [
       "<div>\n",
       "<style scoped>\n",
       "    .dataframe tbody tr th:only-of-type {\n",
       "        vertical-align: middle;\n",
       "    }\n",
       "\n",
       "    .dataframe tbody tr th {\n",
       "        vertical-align: top;\n",
       "    }\n",
       "\n",
       "    .dataframe thead th {\n",
       "        text-align: right;\n",
       "    }\n",
       "</style>\n",
       "<table border=\"1\" class=\"dataframe\">\n",
       "  <thead>\n",
       "    <tr style=\"text-align: right;\">\n",
       "      <th></th>\n",
       "      <th>Classifiers</th>\n",
       "      <th>train_performance</th>\n",
       "      <th>val1_performance</th>\n",
       "      <th>val2_performance</th>\n",
       "    </tr>\n",
       "  </thead>\n",
       "  <tbody>\n",
       "    <tr>\n",
       "      <th>0</th>\n",
       "      <td>svm</td>\n",
       "      <td>0.820857</td>\n",
       "      <td>0.822381</td>\n",
       "      <td>0.812698</td>\n",
       "    </tr>\n",
       "    <tr>\n",
       "      <th>1</th>\n",
       "      <td>lr</td>\n",
       "      <td>0.809762</td>\n",
       "      <td>0.808254</td>\n",
       "      <td>0.801587</td>\n",
       "    </tr>\n",
       "    <tr>\n",
       "      <th>2</th>\n",
       "      <td>adaboost</td>\n",
       "      <td>0.819571</td>\n",
       "      <td>0.817778</td>\n",
       "      <td>0.809524</td>\n",
       "    </tr>\n",
       "    <tr>\n",
       "      <th>3</th>\n",
       "      <td>knn</td>\n",
       "      <td>0.833095</td>\n",
       "      <td>0.807937</td>\n",
       "      <td>0.796825</td>\n",
       "    </tr>\n",
       "    <tr>\n",
       "      <th>4</th>\n",
       "      <td>rf</td>\n",
       "      <td>0.998381</td>\n",
       "      <td>0.814921</td>\n",
       "      <td>0.806349</td>\n",
       "    </tr>\n",
       "  </tbody>\n",
       "</table>\n",
       "</div>"
      ],
      "text/plain": [
       "  Classifiers  train_performance  val1_performance  val2_performance\n",
       "0         svm           0.820857          0.822381          0.812698\n",
       "1          lr           0.809762          0.808254          0.801587\n",
       "2    adaboost           0.819571          0.817778          0.809524\n",
       "3         knn           0.833095          0.807937          0.796825\n",
       "4          rf           0.998381          0.814921          0.806349"
      ]
     },
     "execution_count": 94,
     "metadata": {},
     "output_type": "execute_result"
    }
   ],
   "source": [
    "# Performance on train and test data sets\n",
    "\n",
    "#create dictionary of pipeline classifiers\n",
    "pipe_dic = {0: 'svm', 1: 'lr',\n",
    "2:'adaboost', 3: 'knn', 4: 'rf'}\n",
    "\n",
    "# test the performance on train data samples\n",
    "\n",
    "perf_train = []\n",
    "\n",
    "for indx, val in enumerate(classifier_pipe):\n",
    "    perf_trg = pipe_dic[indx], val.score(X_train,y_train)\n",
    "    perf_train.append(perf_trg)\n",
    "    \n",
    "# performance on test1 data samples\n",
    "perf_test1 = []\n",
    "\n",
    "for indx, val in enumerate(classifier_pipe):\n",
    "    perf_tst1 = pipe_dic[indx], val.score(X_test1,y_test1)\n",
    "    perf_test1.append(perf_tst1)\n",
    "\n",
    "# performance on test2 data samples   \n",
    "perf_test2 = []\n",
    "    \n",
    "for indx, val in enumerate(classifier_pipe):\n",
    "    perf_tst2 = pipe_dic[indx], val.score(X_test2,y_test2)\n",
    "    perf_test2.append(perf_tst2)    \n",
    "    \n",
    "    \n",
    "# tabulated performance between train data samples and test data samples\n",
    "pd_ptrain = pd.DataFrame(perf_train)\n",
    "pd_ptest1 = pd.DataFrame(perf_test1)\n",
    "pd_ptest2 = pd.DataFrame(perf_test2)\n",
    "\n",
    "# concate dataframes\n",
    "perf_log = pd.concat([pd_ptrain.rename(columns={ 0: 'Classifiers', 1: 'train_performance'}),\n",
    "                      pd_ptest1.rename(columns={ 0: 'Classifiers1', 1: 'val1_performance'}),\n",
    "                      pd_ptest2.rename(columns={ 0: 'Classifiers2', 1: 'val2_performance'})], axis = 1)\n",
    "\n",
    "perf_log = perf_log.drop(['Classifiers1','Classifiers2'], axis =1)\n",
    "perf_log\n",
    "\n",
    "# plot\n",
    "#ax = sns.barplot(x=\"Classifiers\", y=\"train_performance\", data=perf_log)\n"
   ]
  },
  {
   "cell_type": "code",
   "execution_count": 95,
   "metadata": {},
   "outputs": [
    {
     "name": "stdout",
     "output_type": "stream",
     "text": [
      "Multi Classification score: 0.82\n"
     ]
    }
   ],
   "source": [
    "# model prediction accuarcy measurement\n",
    "# accuracy_score is used because of multilabel classification based on jaccard similarity coefficient score\n",
    "\n",
    "y_predicted = pipe_rf.predict(X_test3)\n",
    "y_score =accuracy_score(y_test3,y_predicted)\n",
    "\n",
    "print('Multi Classification score: {0:0.2f}'.format(\n",
    "      y_score))\n"
   ]
  },
  {
   "cell_type": "code",
   "execution_count": 96,
   "metadata": {},
   "outputs": [
    {
     "name": "stdout",
     "output_type": "stream",
     "text": [
      "596 30 117 67\n"
     ]
    }
   ],
   "source": [
    "# classification output for test\n",
    "# using tn, fp, fn, tp, classfication precision can be computed\n",
    "\n",
    "tn, fp, fn, tp = confusion_matrix(y_test3, y_predicted).ravel()\n",
    "\n",
    "\n",
    "print(tn, fp, fn, tp)   # output\n",
    "\n",
    "# output explanation for 27 sales samples classification (default payment = 1, non_default payment = 0)\n",
    "# tp: 596 are truely classified as sold items\n",
    "# tn: 30 are wrongly classified as sold items, which should be unsold items\n",
    "# fp: 117 are classified as unsold items but are actually sold items\n",
    "# fn: 67 items should belong to sold items but classified as not sold"
   ]
  },
  {
   "cell_type": "code",
   "execution_count": 101,
   "metadata": {},
   "outputs": [
    {
     "data": {
      "text/html": [
       "<div>\n",
       "<style scoped>\n",
       "    .dataframe tbody tr th:only-of-type {\n",
       "        vertical-align: middle;\n",
       "    }\n",
       "\n",
       "    .dataframe tbody tr th {\n",
       "        vertical-align: top;\n",
       "    }\n",
       "\n",
       "    .dataframe thead th {\n",
       "        text-align: right;\n",
       "    }\n",
       "</style>\n",
       "<table border=\"1\" class=\"dataframe\">\n",
       "  <thead>\n",
       "    <tr style=\"text-align: right;\">\n",
       "      <th>col_0</th>\n",
       "      <th>0</th>\n",
       "      <th>1</th>\n",
       "    </tr>\n",
       "    <tr>\n",
       "      <th>default_payment</th>\n",
       "      <th></th>\n",
       "      <th></th>\n",
       "    </tr>\n",
       "  </thead>\n",
       "  <tbody>\n",
       "    <tr>\n",
       "      <th>0</th>\n",
       "      <td>596</td>\n",
       "      <td>30</td>\n",
       "    </tr>\n",
       "    <tr>\n",
       "      <th>1</th>\n",
       "      <td>117</td>\n",
       "      <td>67</td>\n",
       "    </tr>\n",
       "  </tbody>\n",
       "</table>\n",
       "</div>"
      ],
      "text/plain": [
       "col_0              0   1\n",
       "default_payment         \n",
       "0                596  30\n",
       "1                117  67"
      ]
     },
     "execution_count": 101,
     "metadata": {},
     "output_type": "execute_result"
    }
   ],
   "source": [
    "# crosstab visualisations\n",
    "# comparing ground truth values with the y_predicted labels\n",
    "pd.crosstab(y_test3 ,y_predicted)\n"
   ]
  },
  {
   "cell_type": "markdown",
   "metadata": {},
   "source": [
    "## Neural Network method\n"
   ]
  },
  {
   "cell_type": "code",
   "execution_count": 139,
   "metadata": {},
   "outputs": [
    {
     "name": "stdout",
     "output_type": "stream",
     "text": [
      "Model: \"sequential_1\"\n",
      "_________________________________________________________________\n",
      "Layer (type)                 Output Shape              Param #   \n",
      "=================================================================\n",
      "dense_4 (Dense)              (None, 1024)              15360     \n",
      "_________________________________________________________________\n",
      "dense_5 (Dense)              (None, 1024)              1049600   \n",
      "_________________________________________________________________\n",
      "dropout_2 (Dropout)          (None, 1024)              0         \n",
      "_________________________________________________________________\n",
      "dense_6 (Dense)              (None, 1024)              1049600   \n",
      "_________________________________________________________________\n",
      "dropout_3 (Dropout)          (None, 1024)              0         \n",
      "_________________________________________________________________\n",
      "dense_7 (Dense)              (None, 1)                 1025      \n",
      "=================================================================\n",
      "Total params: 2,115,585\n",
      "Trainable params: 2,115,585\n",
      "Non-trainable params: 0\n",
      "_________________________________________________________________\n"
     ]
    }
   ],
   "source": [
    "# model a dense neural network classifier\n",
    "\n",
    "from tensorflow import keras\n",
    "\n",
    "model = keras.Sequential(\n",
    "    [\n",
    "        keras.layers.Dense(\n",
    "            1024, activation=\"relu\", input_shape=(X_train.shape[-1],)\n",
    "        ),\n",
    "        keras.layers.Dense(1024, activation=\"relu\"),\n",
    "        keras.layers.Dropout(0.4),\n",
    "        keras.layers.Dense(1024, activation=\"relu\"),\n",
    "        keras.layers.Dropout(0.4),\n",
    "        keras.layers.Dense(1, activation=\"sigmoid\"),\n",
    "    ]\n",
    ")\n",
    "model.summary()"
   ]
  },
  {
   "cell_type": "code",
   "execution_count": 140,
   "metadata": {},
   "outputs": [],
   "source": [
    "# compile\n",
    "\n",
    "model.compile(\n",
    "    optimizer=keras.optimizers.Adam(1e-2), loss=\"binary_crossentropy\", metrics= ['accuracy']\n",
    ")\n"
   ]
  },
  {
   "cell_type": "code",
   "execution_count": 142,
   "metadata": {},
   "outputs": [
    {
     "name": "stdout",
     "output_type": "stream",
     "text": [
      "Train on 21000 samples, validate on 810 samples\n",
      "Epoch 1/10\n",
      "21000/21000 - 2s - loss: 0.4328 - accuracy: 0.8203 - val_loss: 0.4415 - val_accuracy: 0.8160\n",
      "Epoch 2/10\n",
      "21000/21000 - 2s - loss: 0.4330 - accuracy: 0.8216 - val_loss: 0.4408 - val_accuracy: 0.8160\n",
      "Epoch 3/10\n",
      "21000/21000 - 2s - loss: 0.4302 - accuracy: 0.8203 - val_loss: 0.4440 - val_accuracy: 0.8111\n",
      "Epoch 4/10\n",
      "21000/21000 - 2s - loss: 0.4350 - accuracy: 0.8214 - val_loss: 0.4415 - val_accuracy: 0.8222\n",
      "Epoch 5/10\n",
      "21000/21000 - 2s - loss: 0.4301 - accuracy: 0.8221 - val_loss: 0.4409 - val_accuracy: 0.8160\n",
      "Epoch 6/10\n",
      "21000/21000 - 2s - loss: 0.4316 - accuracy: 0.8199 - val_loss: 0.4324 - val_accuracy: 0.8247\n",
      "Epoch 7/10\n",
      "21000/21000 - 2s - loss: 0.4340 - accuracy: 0.8190 - val_loss: 0.4433 - val_accuracy: 0.8148\n",
      "Epoch 8/10\n",
      "21000/21000 - 2s - loss: 0.4334 - accuracy: 0.8203 - val_loss: 0.4429 - val_accuracy: 0.8123\n",
      "Epoch 9/10\n",
      "21000/21000 - 2s - loss: 0.4368 - accuracy: 0.8199 - val_loss: 0.4433 - val_accuracy: 0.8160\n",
      "Epoch 10/10\n",
      "21000/21000 - 2s - loss: 0.4330 - accuracy: 0.8205 - val_loss: 0.4370 - val_accuracy: 0.8173\n"
     ]
    },
    {
     "data": {
      "text/plain": [
       "<tensorflow.python.keras.callbacks.History at 0x12c97de6648>"
      ]
     },
     "execution_count": 142,
     "metadata": {},
     "output_type": "execute_result"
    }
   ],
   "source": [
    "# training with class weight\n",
    "\n",
    "model.fit(\n",
    "    X_train,\n",
    "    y_train,\n",
    "    batch_size=1024,\n",
    "    epochs=10,\n",
    "    verbose=2,\n",
    "    #callbacks=callbacks,\n",
    "    validation_data=(X_test3, y_test3),\n",
    "    \n",
    ")"
   ]
  },
  {
   "cell_type": "markdown",
   "metadata": {},
   "source": [
    "## Optimizations \n"
   ]
  },
  {
   "cell_type": "code",
   "execution_count": 110,
   "metadata": {},
   "outputs": [],
   "source": [
    "# finding the best model parameters\n",
    "\n",
    "model_params = {\n",
    "    'pipe_svm': {\n",
    "        'model': svm.SVC(gamma ='auto'),\n",
    "        'params': {\n",
    "            'C': [5, 8],\n",
    "            'kernel': ['rbf','linear']\n",
    "        }\n",
    "    }}"
   ]
  },
  {
   "cell_type": "code",
   "execution_count": 143,
   "metadata": {},
   "outputs": [
    {
     "data": {
      "text/plain": [
       "[{'model': 'pipe_svm',\n",
       "  'best_score': 0.8123456790123458,\n",
       "  'best_params': {'C': 8, 'kernel': 'rbf'}}]"
      ]
     },
     "execution_count": 143,
     "metadata": {},
     "output_type": "execute_result"
    }
   ],
   "source": [
    "# optimization method 1 - GridsearchCV parameters selection technique, -1 using all processors, any int for parrallel \n",
    "scores = []\n",
    "\n",
    "for model_name,xp in model_params.items():\n",
    "    clf = GridSearchCV(xp['model'], xp['params'], cv=None, n_jobs=-1, return_train_score=False)\n",
    "    clf.fit(X_test3, y_test3)\n",
    "    scores.append({\n",
    "        'model': model_name,\n",
    "        'best_score': clf.best_score_,\n",
    "        'best_params': clf.best_params_\n",
    "    })\n",
    "    \n",
    "scores"
   ]
  }
 ],
 "metadata": {
  "kernelspec": {
   "display_name": "tensorflow37",
   "language": "python",
   "name": "py37tf"
  },
  "language_info": {
   "codemirror_mode": {
    "name": "ipython",
    "version": 3
   },
   "file_extension": ".py",
   "mimetype": "text/x-python",
   "name": "python",
   "nbconvert_exporter": "python",
   "pygments_lexer": "ipython3",
   "version": "3.7.9"
  }
 },
 "nbformat": 4,
 "nbformat_minor": 4
}
