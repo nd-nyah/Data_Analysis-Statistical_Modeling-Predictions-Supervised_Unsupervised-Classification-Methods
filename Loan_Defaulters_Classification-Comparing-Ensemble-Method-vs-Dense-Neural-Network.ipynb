{
 "cells": [
  {
   "cell_type": "markdown",
   "metadata": {},
   "source": [
    "About: Loan Defaulters Classifications with ensemble method\n",
    "Dataset1: Dataset link - https://archive.ics.uci.edu/ml/datasets/default+of+credit+card+clients\n",
    "\n",
    "Experimental Aim: To compare the performance of loan defaulters classifications with ensemble and dense aritificial neural network method\n",
    "\n",
    "Results: Performance accuracy\n",
    "\n",
    "Decision Tree: 82%\n",
    "Support Vector Machine: 78%\n",
    "Logistic Regression: 70%\n",
    "Adaboost: 80%\n",
    "ANN: 83%\n",
    "\n",
    "\n",
    "Processses:\n",
    "- data analysis\n",
    "- outlier detection and removal\n",
    "- one-hot-encoding of category variables\n",
    "- balancing of an imbalance training data\n",
    "- model training/fiting comparisom with ensemble method: Logistic Regression, Support Vector Machine,\n",
    "                                                    Decision Tree and Adaboost classifiers\n",
    "- model training/fitting with dense sequential neural network with class label weight\n",
    "- Predictions"
   ]
  },
  {
   "cell_type": "code",
   "execution_count": 1,
   "metadata": {},
   "outputs": [],
   "source": [
    "# set up\n",
    "\n",
    "import pandas as pd\n",
    "import numpy as np\n",
    "import matplotlib.pyplot as plt\n",
    "\n",
    "import tensorflow as tf\n",
    "from tensorflow import keras\n",
    "from tensorflow.keras import layers\n",
    "\n",
    "from IPython.display import clear_output\n",
    "import seaborn as sns\n",
    "\n",
    "from sklearn.model_selection import train_test_split\n",
    "from sklearn.metrics import accuracy_score, precision_score, recall_score, confusion_matrix, precision_recall_curve\n",
    "from sklearn.preprocessing import StandardScaler\n",
    "\n",
    "from sklearn.linear_model import LogisticRegression\n",
    "from sklearn.tree import DecisionTreeClassifier\n",
    "from sklearn.svm import SVC\n",
    "from sklearn.ensemble import AdaBoostClassifier\n",
    "\n",
    "from sklearn import datasets, linear_model"
   ]
  },
  {
   "cell_type": "code",
   "execution_count": 2,
   "metadata": {},
   "outputs": [
    {
     "data": {
      "text/plain": [
       "Index(['ID', 'LIMIT_BAL', 'SEX', 'EDUCATION', 'MARRIAGE', 'AGE', 'PAY_0',\n",
       "       'PAY_2', 'PAY_3', 'PAY_4', 'PAY_5', 'PAY_6', 'BILL_AMT1', 'BILL_AMT2',\n",
       "       'BILL_AMT3', 'BILL_AMT4', 'BILL_AMT5', 'BILL_AMT6', 'PAY_AMT1',\n",
       "       'PAY_AMT2', 'PAY_AMT3', 'PAY_AMT4', 'PAY_AMT5', 'PAY_AMT6',\n",
       "       'default payment next month'],\n",
       "      dtype='object')"
      ]
     },
     "execution_count": 2,
     "metadata": {},
     "output_type": "execute_result"
    }
   ],
   "source": [
    "# upload data dataframe \n",
    "df = pd.read_csv('default_of_credit_card_clients.csv', skiprows=1)\n",
    "data = df.dropna()      # removing rows with null values if any \n",
    "data.head(2)    # print sample frame by rows\n",
    "data.columns\n",
    "#clear_output(wait=True)\n",
    "#data.dtypes"
   ]
  },
  {
   "cell_type": "code",
   "execution_count": 5,
   "metadata": {},
   "outputs": [
    {
     "data": {
      "text/plain": [
       "Index(['ID', 'SEX', 'EDUCATION', 'MARRIAGE', 'PAY_0', 'PAY_2', 'PAY_3',\n",
       "       'PAY_4', 'PAY_5', 'PAY_6'],\n",
       "      dtype='object')"
      ]
     },
     "execution_count": 5,
     "metadata": {},
     "output_type": "execute_result"
    }
   ],
   "source": [
    "# Features preporcessing and Analysis\n",
    "# identify and separate category/ continous variables\n",
    "\n",
    "num_var = data.drop(['SEX', 'EDUCATION', 'MARRIAGE'], axis = 1)\n",
    "\n",
    "cat_var = data.drop(['LIMIT_BAL', 'AGE', 'BILL_AMT1', 'BILL_AMT2',\n",
    "       'BILL_AMT3', 'BILL_AMT4', 'BILL_AMT5', 'BILL_AMT6', 'PAY_AMT1',\n",
    "       'PAY_AMT2', 'PAY_AMT3', 'PAY_AMT4', 'PAY_AMT5', 'PAY_AMT6','default payment next month'], axis =1)\n",
    "\n",
    "cat_var.head(2)\n",
    "cat_var.columns"
   ]
  },
  {
   "cell_type": "code",
   "execution_count": 6,
   "metadata": {},
   "outputs": [
    {
     "data": {
      "text/html": [
       "<div>\n",
       "<style scoped>\n",
       "    .dataframe tbody tr th:only-of-type {\n",
       "        vertical-align: middle;\n",
       "    }\n",
       "\n",
       "    .dataframe tbody tr th {\n",
       "        vertical-align: top;\n",
       "    }\n",
       "\n",
       "    .dataframe thead th {\n",
       "        text-align: right;\n",
       "    }\n",
       "</style>\n",
       "<table border=\"1\" class=\"dataframe\">\n",
       "  <thead>\n",
       "    <tr style=\"text-align: right;\">\n",
       "      <th></th>\n",
       "      <th>ID</th>\n",
       "      <th>LIMIT_BAL</th>\n",
       "      <th>AGE</th>\n",
       "      <th>PAY_0</th>\n",
       "      <th>PAY_2</th>\n",
       "      <th>PAY_3</th>\n",
       "      <th>PAY_4</th>\n",
       "      <th>PAY_5</th>\n",
       "      <th>BILL_AMT1</th>\n",
       "      <th>BILL_AMT2</th>\n",
       "      <th>...</th>\n",
       "      <th>PAY_6_-2</th>\n",
       "      <th>PAY_6_-1</th>\n",
       "      <th>PAY_6_0</th>\n",
       "      <th>PAY_6_2</th>\n",
       "      <th>PAY_6_3</th>\n",
       "      <th>PAY_6_4</th>\n",
       "      <th>PAY_6_5</th>\n",
       "      <th>PAY_6_6</th>\n",
       "      <th>PAY_6_7</th>\n",
       "      <th>PAY_6_8</th>\n",
       "    </tr>\n",
       "  </thead>\n",
       "  <tbody>\n",
       "    <tr>\n",
       "      <th>0</th>\n",
       "      <td>1</td>\n",
       "      <td>20000</td>\n",
       "      <td>24</td>\n",
       "      <td>2</td>\n",
       "      <td>2</td>\n",
       "      <td>-1</td>\n",
       "      <td>-1</td>\n",
       "      <td>-2</td>\n",
       "      <td>3913</td>\n",
       "      <td>3102</td>\n",
       "      <td>...</td>\n",
       "      <td>1</td>\n",
       "      <td>0</td>\n",
       "      <td>0</td>\n",
       "      <td>0</td>\n",
       "      <td>0</td>\n",
       "      <td>0</td>\n",
       "      <td>0</td>\n",
       "      <td>0</td>\n",
       "      <td>0</td>\n",
       "      <td>0</td>\n",
       "    </tr>\n",
       "    <tr>\n",
       "      <th>1</th>\n",
       "      <td>2</td>\n",
       "      <td>120000</td>\n",
       "      <td>26</td>\n",
       "      <td>-1</td>\n",
       "      <td>2</td>\n",
       "      <td>0</td>\n",
       "      <td>0</td>\n",
       "      <td>0</td>\n",
       "      <td>2682</td>\n",
       "      <td>1725</td>\n",
       "      <td>...</td>\n",
       "      <td>0</td>\n",
       "      <td>0</td>\n",
       "      <td>0</td>\n",
       "      <td>1</td>\n",
       "      <td>0</td>\n",
       "      <td>0</td>\n",
       "      <td>0</td>\n",
       "      <td>0</td>\n",
       "      <td>0</td>\n",
       "      <td>0</td>\n",
       "    </tr>\n",
       "  </tbody>\n",
       "</table>\n",
       "<p>2 rows × 44 columns</p>\n",
       "</div>"
      ],
      "text/plain": [
       "   ID  LIMIT_BAL  AGE  PAY_0  PAY_2  PAY_3  PAY_4  PAY_5  BILL_AMT1  \\\n",
       "0   1      20000   24      2      2     -1     -1     -2       3913   \n",
       "1   2     120000   26     -1      2      0      0      0       2682   \n",
       "\n",
       "   BILL_AMT2  ...  PAY_6_-2  PAY_6_-1  PAY_6_0  PAY_6_2  PAY_6_3  PAY_6_4  \\\n",
       "0       3102  ...         1         0        0        0        0        0   \n",
       "1       1725  ...         0         0        0        1        0        0   \n",
       "\n",
       "   PAY_6_5  PAY_6_6  PAY_6_7  PAY_6_8  \n",
       "0        0        0        0        0  \n",
       "1        0        0        0        0  \n",
       "\n",
       "[2 rows x 44 columns]"
      ]
     },
     "execution_count": 6,
     "metadata": {},
     "output_type": "execute_result"
    }
   ],
   "source": [
    "# perform one-hot encoding for category variables\n",
    "\n",
    "df = pd.concat([data.drop('SEX', axis=1), pd.get_dummies(data['SEX'],prefix='sex')], axis=1)\n",
    "df1 = pd.concat([df.drop('EDUCATION', axis=1), pd.get_dummies(data['EDUCATION'],prefix='education')], axis=1)\n",
    "df2 = pd.concat([df1.drop('MARRIAGE', axis=1), pd.get_dummies(data['MARRIAGE'],prefix='marriage')], axis=1)\n",
    "df4 = pd.concat([df2.drop('PAY_0', axis=1), pd.get_dummies(data['PAY_0'],prefix='PAY_0')], axis=1)\n",
    "df5 = pd.concat([df4.drop('PAY_2', axis=1), pd.get_dummies(data['PAY_2'],prefix='PAY_2')], axis=1)\n",
    "df6 = pd.concat([df5.drop('PAY_3', axis=1), pd.get_dummies(data['PAY_3'],prefix='PAY_3')], axis=1)\n",
    "df7 = pd.concat([df2.drop('PAY_4', axis=1), pd.get_dummies(data['PAY_4'],prefix='PAY_4')], axis=1)\n",
    "df8 = pd.concat([df2.drop('PAY_5', axis=1), pd.get_dummies(data['PAY_5'],prefix='PAY_5')], axis=1)\n",
    "data1 = pd.concat([df2.drop('PAY_6', axis=1), pd.get_dummies(data['PAY_6'],prefix='PAY_6')], axis=1)\n",
    "\n",
    "#visualisations\n",
    "data1.head(2)\n",
    "#data1.columns\n",
    "#len(data)"
   ]
  },
  {
   "cell_type": "code",
   "execution_count": 7,
   "metadata": {},
   "outputs": [
    {
     "data": {
      "text/plain": [
       "<matplotlib.axes._subplots.AxesSubplot at 0x14b859b2048>"
      ]
     },
     "execution_count": 7,
     "metadata": {},
     "output_type": "execute_result"
    },
    {
     "data": {
      "image/png": "[encoded data removed]",
      "text/plain": [
       "<Figure size 432x288 with 1 Axes>"
      ]
     },
     "metadata": {
      "needs_background": "light"
     },
     "output_type": "display_data"
    }
   ],
   "source": [
    "# check for outlier based on independent univariate variable approach and box plot\n",
    "\n",
    "import seaborn as sns\n",
    "sns.boxplot(x=data1['AGE'])\n"
   ]
  },
  {
   "cell_type": "code",
   "execution_count": 8,
   "metadata": {},
   "outputs": [
    {
     "data": {
      "text/plain": [
       "29728"
      ]
     },
     "execution_count": 8,
     "metadata": {},
     "output_type": "execute_result"
    },
    {
     "data": {
      "image/png": "[encoded data removed]",
      "text/plain": [
       "<Figure size 432x288 with 1 Axes>"
      ]
     },
     "metadata": {
      "needs_background": "light"
     },
     "output_type": "display_data"
    }
   ],
   "source": [
    "# remove outliers based on age variable\n",
    "\n",
    "data2 = data1[data1.AGE <=60]\n",
    "data2.shape[0]\n",
    "\n",
    "#visualisations\n",
    "import seaborn as sns\n",
    "sns.boxplot(x=data2['AGE'])\n",
    "\n",
    "data2.head(2)\n",
    "data2.shape[0]"
   ]
  },
  {
   "cell_type": "code",
   "execution_count": 113,
   "metadata": {},
   "outputs": [
    {
     "data": {
      "text/html": [
       "<div>\n",
       "<style scoped>\n",
       "    .dataframe tbody tr th:only-of-type {\n",
       "        vertical-align: middle;\n",
       "    }\n",
       "\n",
       "    .dataframe tbody tr th {\n",
       "        vertical-align: top;\n",
       "    }\n",
       "\n",
       "    .dataframe thead th {\n",
       "        text-align: right;\n",
       "    }\n",
       "</style>\n",
       "<table border=\"1\" class=\"dataframe\">\n",
       "  <thead>\n",
       "    <tr style=\"text-align: right;\">\n",
       "      <th></th>\n",
       "      <th>ID</th>\n",
       "      <th>LIMIT_BAL</th>\n",
       "      <th>AGE</th>\n",
       "      <th>PAY_0</th>\n",
       "      <th>PAY_2</th>\n",
       "      <th>PAY_3</th>\n",
       "      <th>PAY_4</th>\n",
       "      <th>PAY_5</th>\n",
       "      <th>BILL_AMT1</th>\n",
       "      <th>BILL_AMT2</th>\n",
       "      <th>...</th>\n",
       "      <th>PAY_6_-2</th>\n",
       "      <th>PAY_6_-1</th>\n",
       "      <th>PAY_6_0</th>\n",
       "      <th>PAY_6_2</th>\n",
       "      <th>PAY_6_3</th>\n",
       "      <th>PAY_6_4</th>\n",
       "      <th>PAY_6_5</th>\n",
       "      <th>PAY_6_6</th>\n",
       "      <th>PAY_6_7</th>\n",
       "      <th>PAY_6_8</th>\n",
       "    </tr>\n",
       "  </thead>\n",
       "  <tbody>\n",
       "    <tr>\n",
       "      <th>29900</th>\n",
       "      <td>29901</td>\n",
       "      <td>20000</td>\n",
       "      <td>29</td>\n",
       "      <td>0</td>\n",
       "      <td>0</td>\n",
       "      <td>-2</td>\n",
       "      <td>-2</td>\n",
       "      <td>-2</td>\n",
       "      <td>16809</td>\n",
       "      <td>0</td>\n",
       "      <td>...</td>\n",
       "      <td>1</td>\n",
       "      <td>0</td>\n",
       "      <td>0</td>\n",
       "      <td>0</td>\n",
       "      <td>0</td>\n",
       "      <td>0</td>\n",
       "      <td>0</td>\n",
       "      <td>0</td>\n",
       "      <td>0</td>\n",
       "      <td>0</td>\n",
       "    </tr>\n",
       "    <tr>\n",
       "      <th>29901</th>\n",
       "      <td>29902</td>\n",
       "      <td>50000</td>\n",
       "      <td>29</td>\n",
       "      <td>1</td>\n",
       "      <td>2</td>\n",
       "      <td>0</td>\n",
       "      <td>0</td>\n",
       "      <td>0</td>\n",
       "      <td>50845</td>\n",
       "      <td>48750</td>\n",
       "      <td>...</td>\n",
       "      <td>0</td>\n",
       "      <td>0</td>\n",
       "      <td>1</td>\n",
       "      <td>0</td>\n",
       "      <td>0</td>\n",
       "      <td>0</td>\n",
       "      <td>0</td>\n",
       "      <td>0</td>\n",
       "      <td>0</td>\n",
       "      <td>0</td>\n",
       "    </tr>\n",
       "  </tbody>\n",
       "</table>\n",
       "<p>2 rows × 44 columns</p>\n",
       "</div>"
      ],
      "text/plain": [
       "          ID  LIMIT_BAL  AGE  PAY_0  PAY_2  PAY_3  PAY_4  PAY_5  BILL_AMT1  \\\n",
       "29900  29901      20000   29      0      0     -2     -2     -2      16809   \n",
       "29901  29902      50000   29      1      2      0      0      0      50845   \n",
       "\n",
       "       BILL_AMT2  ...  PAY_6_-2  PAY_6_-1  PAY_6_0  PAY_6_2  PAY_6_3  PAY_6_4  \\\n",
       "29900          0  ...         1         0        0        0        0        0   \n",
       "29901      48750  ...         0         0        1        0        0        0   \n",
       "\n",
       "       PAY_6_5  PAY_6_6  PAY_6_7  PAY_6_8  \n",
       "29900        0        0        0        0  \n",
       "29901        0        0        0        0  \n",
       "\n",
       "[2 rows x 44 columns]"
      ]
     },
     "execution_count": 113,
     "metadata": {},
     "output_type": "execute_result"
    }
   ],
   "source": [
    "# separate train and test datasets\n",
    "#len_data = \n",
    "input_sample = data2[data2['ID'] <=29900]          # training / validation testing\n",
    "test_sample = data2[data2['ID']>29900]             # external test sample\n",
    "test_sample.head(2)\n",
    "#test_sample.shape[0]\n"
   ]
  },
  {
   "cell_type": "code",
   "execution_count": 15,
   "metadata": {},
   "outputs": [
    {
     "data": {
      "text/plain": [
       "Index(['LIMIT_BAL', 'AGE', 'PAY_0', 'PAY_2', 'PAY_3', 'PAY_4', 'PAY_5',\n",
       "       'BILL_AMT1', 'BILL_AMT2', 'BILL_AMT3', 'BILL_AMT4', 'BILL_AMT5',\n",
       "       'BILL_AMT6', 'PAY_AMT1', 'PAY_AMT2', 'PAY_AMT3', 'PAY_AMT4', 'PAY_AMT5',\n",
       "       'PAY_AMT6', 'default_payment_next_month', 'sex_1', 'sex_2',\n",
       "       'education_0', 'education_1', 'education_2', 'education_3',\n",
       "       'education_4', 'education_5', 'education_6', 'marriage_0', 'marriage_1',\n",
       "       'marriage_2', 'marriage_3', 'PAY_6_-2', 'PAY_6_-1', 'PAY_6_0',\n",
       "       'PAY_6_2', 'PAY_6_3', 'PAY_6_4', 'PAY_6_5', 'PAY_6_6', 'PAY_6_7',\n",
       "       'PAY_6_8'],\n",
       "      dtype='object')"
      ]
     },
     "execution_count": 15,
     "metadata": {},
     "output_type": "execute_result"
    }
   ],
   "source": [
    "# rename and drop columns\n",
    "input_sample1 = input_sample.rename(columns = { 'default payment next month': 'default_payment_next_month'})\n",
    "input_data= input_sample1.drop(['ID'], axis =1)\n",
    "train_input.columns\n"
   ]
  },
  {
   "cell_type": "code",
   "execution_count": 16,
   "metadata": {},
   "outputs": [
    {
     "name": "stdout",
     "output_type": "stream",
     "text": [
      "                                  AGE\n",
      "default_payment_next_month           \n",
      "0                           77.933036\n",
      "1                           22.066964\n"
     ]
    }
   ],
   "source": [
    "# visualisation 2: look the percentage of defaulters by sex, or education or any of the categorical variable \n",
    "# checking for imbalance data by percentage, 0 being pay , 1 = defaulters\n",
    "\n",
    "default_rate= pd.DataFrame(\n",
    "    input_data.groupby('default_payment_next_month').count()['AGE']/input_data.shape[0]*100.00\n",
    ")\n",
    "\n",
    "print(default_rate)\n",
    "\n"
   ]
  },
  {
   "cell_type": "code",
   "execution_count": 17,
   "metadata": {},
   "outputs": [
    {
     "name": "stdout",
     "output_type": "stream",
     "text": [
      "0    23090\n",
      "1     6538\n",
      "Name: default_payment_next_month, dtype: int64\n",
      "4.3308791684711995e-05\n",
      "0.00015295197308045274\n"
     ]
    }
   ],
   "source": [
    "# check for imbalance label and weight distribution of training data\n",
    "\n",
    "counts =input_data['default_payment_next_month'].value_counts()\n",
    "print(counts)\n",
    "\n",
    "imb_weight_for_0 = 1.0 / counts[0]\n",
    "imb_weight_for_1 = 1.0 / counts[1]\n",
    "print(imb_weight_for_0 )\n",
    "print(imb_weight_for_1 )"
   ]
  },
  {
   "cell_type": "code",
   "execution_count": 114,
   "metadata": {},
   "outputs": [],
   "source": [
    "#train input features/target separation and normalisation\n",
    "\n",
    "target_feat = 'default_payment_next_month'\n",
    "train_feat = input_data.drop(target_feat, axis = 1)\n",
    "scaler = StandardScaler()\n",
    "X = scaler.fit_transform(train_feat)      # use this same normalisation to process new test cases\n",
    "y = input_data[target_feat]\n"
   ]
  },
  {
   "cell_type": "code",
   "execution_count": 23,
   "metadata": {},
   "outputs": [
    {
     "name": "stdout",
     "output_type": "stream",
     "text": [
      "y_train Counter({0: 23090, 1: 6538})\n",
      "y_train1 Counter({0: 6538, 1: 6538})\n"
     ]
    },
    {
     "data": {
      "text/plain": [
       "42"
      ]
     },
     "execution_count": 23,
     "metadata": {},
     "output_type": "execute_result"
    }
   ],
   "source": [
    "# undersampling train input/target to remove data imbalance\n",
    "\n",
    "from imblearn.under_sampling import NearMiss\n",
    "#from imblearn.under_sampling import SMOTE\n",
    "\n",
    "nm = NearMiss()\n",
    "x_train1, y_train1 = nm.fit_sample(X,y)\n",
    "\n",
    "#check for class distribution\n",
    "from collections import Counter\n",
    "\n",
    "print( 'y_train {}'.format(Counter(y)))\n",
    "print( 'y_train1 {}'.format(Counter(y_train1)))\n"
   ]
  },
  {
   "cell_type": "code",
   "execution_count": 115,
   "metadata": {},
   "outputs": [
    {
     "name": "stdout",
     "output_type": "stream",
     "text": [
      "0.00017998560115190784\n",
      "0.0001799208348326736\n"
     ]
    },
    {
     "data": {
      "text/plain": [
       "42"
      ]
     },
     "execution_count": 115,
     "metadata": {},
     "output_type": "execute_result"
    }
   ],
   "source": [
    "# train and test data and the corresponding data target separation of balance dataset\n",
    "\n",
    "x_train, x_test, y_train, y_test = train_test_split(x_train1,y_train1,test_size=0.15, random_state=42)\n",
    "\n",
    "\n",
    "# create weight for the balance data label for dense neural network training\n",
    "counts =y_train.value_counts()\n",
    "\n",
    "weight_for_0 = 1.0 / counts[0]\n",
    "weight_for_1 = 1.0 / counts[1]\n",
    "print(weight_for_0)\n",
    "print(weight_for_1)\n",
    "\n",
    "x_test.shape[0]\n",
    "x_train.shape[-1]"
   ]
  },
  {
   "cell_type": "code",
   "execution_count": 30,
   "metadata": {},
   "outputs": [
    {
     "data": {
      "text/plain": [
       "LogisticRegression()"
      ]
     },
     "execution_count": 30,
     "metadata": {},
     "output_type": "execute_result"
    }
   ],
   "source": [
    "# Build and fit Logistic Regression model\n",
    "\n",
    "logistic_mdl = LogisticRegression()\n",
    "logistic_mdl.fit(x_train, y_train)"
   ]
  },
  {
   "cell_type": "code",
   "execution_count": 26,
   "metadata": {},
   "outputs": [
    {
     "name": "stdout",
     "output_type": "stream",
     "text": [
      "0.7849133537206932\n"
     ]
    },
    {
     "data": {
      "text/html": [
       "<div>\n",
       "<style scoped>\n",
       "    .dataframe tbody tr th:only-of-type {\n",
       "        vertical-align: middle;\n",
       "    }\n",
       "\n",
       "    .dataframe tbody tr th {\n",
       "        vertical-align: top;\n",
       "    }\n",
       "\n",
       "    .dataframe thead th {\n",
       "        text-align: right;\n",
       "    }\n",
       "</style>\n",
       "<table border=\"1\" class=\"dataframe\">\n",
       "  <thead>\n",
       "    <tr style=\"text-align: right;\">\n",
       "      <th>col_0</th>\n",
       "      <th>0</th>\n",
       "      <th>1</th>\n",
       "    </tr>\n",
       "    <tr>\n",
       "      <th>default_payment_next_month</th>\n",
       "      <th></th>\n",
       "      <th></th>\n",
       "    </tr>\n",
       "  </thead>\n",
       "  <tbody>\n",
       "    <tr>\n",
       "      <th>0</th>\n",
       "      <td>827</td>\n",
       "      <td>155</td>\n",
       "    </tr>\n",
       "    <tr>\n",
       "      <th>1</th>\n",
       "      <td>267</td>\n",
       "      <td>713</td>\n",
       "    </tr>\n",
       "  </tbody>\n",
       "</table>\n",
       "</div>"
      ],
      "text/plain": [
       "col_0                         0    1\n",
       "default_payment_next_month          \n",
       "0                           827  155\n",
       "1                           267  713"
      ]
     },
     "execution_count": 26,
     "metadata": {},
     "output_type": "execute_result"
    }
   ],
   "source": [
    "# Logistic regression model inference with prediction accuracy on test dataset\n",
    "\n",
    "y_predict_reg = logistic_mdl.predict(x_test)\n",
    "print(accuracy_score(y_test,y_predict_reg))\n",
    "\n",
    "# matrix visualisation of loan defaulters ( default payment: 1 = Yes , 0 = No)\n",
    "pd.crosstab(y_test,y_predict_reg)\n"
   ]
  },
  {
   "cell_type": "code",
   "execution_count": 31,
   "metadata": {},
   "outputs": [],
   "source": [
    "# Ensemble method of classification with multiple classifiers\n",
    "\n",
    "estimators = []\n",
    "\n",
    "#Decision Tree\n",
    "dt_model = DecisionTreeClassifier(random_state=1)\n",
    "estimators.append(('DecisionTreeClassifier',dt_model))\n",
    "\n",
    "#SVM - Support Vector Classifier (SVC)\n",
    "svm_model = SVC(random_state=1)\n",
    "estimators.append(('SVC',svm_model))\n",
    "\n",
    "#Logistic regression\n",
    "logit_model = LogisticRegression(random_state=1)\n",
    "estimators.append(('LogisticRegression',logit_model))\n",
    "\n",
    "# Adaboost\n",
    "ada_boost_model = AdaBoostClassifier(n_estimators = 500, random_state = 0)\n",
    "estimators.append(('AdaBoostClassifier', ada_boost_model))"
   ]
  },
  {
   "cell_type": "code",
   "execution_count": 28,
   "metadata": {},
   "outputs": [
    {
     "name": "stdout",
     "output_type": "stream",
     "text": [
      "SVC 0.8241590214067278\n",
      "SVC col_0                         0    1\n",
      "default_payment_next_month          \n",
      "0                           889   93\n",
      "1                           252  728\n",
      "DecisionTreeClassifier 0.7400611620795107\n",
      "DecisionTreeClassifier col_0                         0    1\n",
      "default_payment_next_month          \n",
      "0                           723  259\n",
      "1                           251  729\n",
      "LogisticRegression 0.7849133537206932\n",
      "LogisticRegression col_0                         0    1\n",
      "default_payment_next_month          \n",
      "0                           827  155\n",
      "1                           267  713\n",
      "AdaBoostClassifier 0.8022426095820592\n",
      "AdaBoostClassifier col_0                         0    1\n",
      "default_payment_next_month          \n",
      "0                           842  140\n",
      "1                           248  732\n"
     ]
    }
   ],
   "source": [
    "# ensemble classifiers training and fitting\n",
    "\n",
    "#from sklearn.metrics import accuracy_score\n",
    "\n",
    "for each_estimator in (svm_model, dt_model, logit_model, ada_boost_model):\n",
    "    each_estimator.fit(x_train,y_train)\n",
    "    y_predict_ensem = each_estimator.predict(x_test)\n",
    "    print(each_estimator.__class__.__name__, accuracy_score(y_test,y_predict_ensem))\n",
    "    \n",
    "    \n",
    "    # # matrix visualisation of loan defaulters ( default payment: 1 = Yes , 0 = No)\n",
    "    print(each_estimator.__class__.__name__, pd.crosstab(y_test,y_predict_ensem))"
   ]
  },
  {
   "cell_type": "code",
   "execution_count": 158,
   "metadata": {},
   "outputs": [
    {
     "name": "stdout",
     "output_type": "stream",
     "text": [
      "Model: \"sequential_6\"\n",
      "_________________________________________________________________\n",
      "Layer (type)                 Output Shape              Param #   \n",
      "=================================================================\n",
      "dense_24 (Dense)             (None, 256)               11008     \n",
      "_________________________________________________________________\n",
      "dense_25 (Dense)             (None, 256)               65792     \n",
      "_________________________________________________________________\n",
      "dropout_12 (Dropout)         (None, 256)               0         \n",
      "_________________________________________________________________\n",
      "dense_26 (Dense)             (None, 256)               65792     \n",
      "_________________________________________________________________\n",
      "dropout_13 (Dropout)         (None, 256)               0         \n",
      "_________________________________________________________________\n",
      "dense_27 (Dense)             (None, 1)                 257       \n",
      "=================================================================\n",
      "Total params: 142,849\n",
      "Trainable params: 142,849\n",
      "Non-trainable params: 0\n",
      "_________________________________________________________________\n"
     ]
    }
   ],
   "source": [
    "# model a dense neural network classifier\n",
    "\n",
    "from tensorflow import keras\n",
    "\n",
    "model = keras.Sequential(\n",
    "    [\n",
    "        keras.layers.Dense(\n",
    "            256, activation=\"relu\", input_shape=(x_train.shape[-1],)\n",
    "        ),\n",
    "        keras.layers.Dense(256, activation=\"relu\"),\n",
    "        keras.layers.Dropout(0.4),\n",
    "        keras.layers.Dense(256, activation=\"relu\"),\n",
    "        keras.layers.Dropout(0.4),\n",
    "        keras.layers.Dense(1, activation=\"sigmoid\"),\n",
    "    ]\n",
    ")\n",
    "model.summary()"
   ]
  },
  {
   "cell_type": "code",
   "execution_count": 159,
   "metadata": {},
   "outputs": [],
   "source": [
    "# compile\n",
    "\n",
    "#metrics = [\n",
    "    #keras.metrics.FalseNegatives(name=\"fn\"),\n",
    "    #keras.metrics.FalsePositives(name=\"fp\"),\n",
    "    #keras.metrics.TrueNegatives(name=\"tn\"),\n",
    "    #keras.metrics.TruePositives(name=\"tp\"),\n",
    "    #keras.metrics.Precision(name=\"precision\"),\n",
    "    #keras.metrics.Recall(name=\"recall\"),\n",
    "#]\n",
    "\n",
    "#metrics= metrics\n",
    "model.compile(\n",
    "    optimizer=keras.optimizers.Adam(1e-2), loss=\"binary_crossentropy\", metrics= ['accuracy']\n",
    ")\n",
    "class_weight = {0: weight_for_0, 1: weight_for_1}"
   ]
  },
  {
   "cell_type": "code",
   "execution_count": 160,
   "metadata": {},
   "outputs": [
    {
     "name": "stdout",
     "output_type": "stream",
     "text": [
      "Epoch 1/10\n",
      "11/11 - 0s - loss: 1.0593e-04 - accuracy: 0.6723\n",
      "Epoch 2/10\n",
      "11/11 - 0s - loss: 8.8613e-05 - accuracy: 0.7796\n",
      "Epoch 3/10\n",
      "11/11 - 0s - loss: 8.2871e-05 - accuracy: 0.7958\n",
      "Epoch 4/10\n",
      "11/11 - 0s - loss: 7.8225e-05 - accuracy: 0.8071\n",
      "Epoch 5/10\n",
      "11/11 - 0s - loss: 7.5221e-05 - accuracy: 0.8217\n",
      "Epoch 6/10\n",
      "11/11 - 0s - loss: 7.3213e-05 - accuracy: 0.8250\n",
      "Epoch 7/10\n",
      "11/11 - 0s - loss: 7.1945e-05 - accuracy: 0.8286\n",
      "Epoch 8/10\n",
      "11/11 - 0s - loss: 7.0517e-05 - accuracy: 0.8352\n",
      "Epoch 9/10\n",
      "11/11 - 0s - loss: 6.9946e-05 - accuracy: 0.8335\n",
      "Epoch 10/10\n",
      "11/11 - 0s - loss: 7.0017e-05 - accuracy: 0.8344\n"
     ]
    },
    {
     "data": {
      "text/plain": [
       "<tensorflow.python.keras.callbacks.History at 0x14b8e7e8d48>"
      ]
     },
     "execution_count": 160,
     "metadata": {},
     "output_type": "execute_result"
    }
   ],
   "source": [
    "# training with class weight\n",
    "\n",
    "model.fit(\n",
    "    x_train,\n",
    "    y_train,\n",
    "    batch_size=1024,\n",
    "    epochs=10,\n",
    "    verbose=2,\n",
    "    #callbacks=callbacks,\n",
    "    #validation_data=(x_test, y_test),\n",
    "    class_weight=class_weight,\n",
    ")"
   ]
  },
  {
   "cell_type": "code",
   "execution_count": 161,
   "metadata": {},
   "outputs": [
    {
     "name": "stdout",
     "output_type": "stream",
     "text": [
      "[[0.98251706]]\n",
      "This particular customer indicated a 98.3 percent probability to default loan re-payment, as evaluated by our model.\n"
     ]
    }
   ],
   "source": [
    "# Dense neural network model inference for loan defaulters\n",
    "# default payment: 1 = Yes , 0 = No)\n",
    "\n",
    "x_test_r1 = x_test[[7],:]     # select a single row from test set based on index\n",
    "\n",
    "y_predict_dense_model = model.predict(x_test_r1)   # predict a single row\n",
    "#print(accuracy_score(y_test,y_predict_dense_model))\n",
    "print(y_predict_dense_model)\n",
    "\n",
    "#pd.crosstab(y_test,y_predict_dense_model)\n",
    "print(\n",
    "    \"This particular customer indicated a %.1f percent probability \"\n",
    "    \"to default loan re-payment, as evaluated by our model.\" % (100 * y_predict_dense_model[0][0],)\n",
    ")\n"
   ]
  },
  {
   "cell_type": "code",
   "execution_count": 162,
   "metadata": {},
   "outputs": [
    {
     "name": "stdout",
     "output_type": "stream",
     "text": [
      "[{'ID': 29902, 'LIMIT_BAL': 50000, 'AGE': 29, 'PAY_0': 1, 'PAY_2': 2, 'PAY_3': 0, 'PAY_4': 0, 'PAY_5': 0, 'BILL_AMT1': 50845, 'BILL_AMT2': 48750, 'BILL_AMT3': 103486, 'BILL_AMT4': 50590, 'BILL_AMT5': 50248, 'BILL_AMT6': 49387, 'PAY_AMT1': 0, 'PAY_AMT2': 6556, 'PAY_AMT3': 3250, 'PAY_AMT4': 1563, 'PAY_AMT5': 1208, 'PAY_AMT6': 781, 'default payment next month': 0, 'sex_1': 1, 'sex_2': 0, 'education_0': 0, 'education_1': 0, 'education_2': 1, 'education_3': 0, 'education_4': 0, 'education_5': 0, 'education_6': 0, 'marriage_0': 0, 'marriage_1': 0, 'marriage_2': 1, 'marriage_3': 0, 'PAY_6_-2': 0, 'PAY_6_-1': 0, 'PAY_6_0': 1, 'PAY_6_2': 0, 'PAY_6_3': 0, 'PAY_6_4': 0, 'PAY_6_5': 0, 'PAY_6_6': 0, 'PAY_6_7': 0, 'PAY_6_8': 0}]\n",
      "[[0.23241347]]\n",
      "This particular customer indicated a 23.2 percent probability to default loan re-payment, as evaluated by our model.\n"
     ]
    }
   ],
   "source": [
    "# model inference and prediction using a dataframe test sample containing record of a particular customer\n",
    "# default payment: 1 = Yes , 0 = No\n",
    "\n",
    "test_sample_ID = test_sample[test_sample['ID'] == 29902]   # you can try different customer ID to predict payment outcome \n",
    "\n",
    "# convert to dictionary and print a customer details\n",
    "sample_ID_dict = test_sample_ID.to_dict('record')\n",
    "print(sample_ID_dict )\n",
    "\n",
    "sample_ID = test_sample_ID.drop(['ID','default payment next month'], axis =1)\n",
    "\n",
    "# normalise\n",
    "scaler = StandardScaler()\n",
    "sample_ID_norm = scaler.fit_transform(sample_ID)\n",
    "\n",
    "# predict label for a new record with \n",
    "y_predict_sample_29901_norm = model.predict(sample_ID_norm)   # predict a single row\n",
    "print(y_predict_sample_29901_norm)\n",
    "\n",
    "#pd.crosstab(y_test,y_predict_dense_model)\n",
    "print(\n",
    "    \"This particular customer indicated a %.1f percent probability \"\n",
    "    \"to default loan re-payment, as evaluated by our model.\" % (100 * y_predict_sample_29901_norm[0][0],)\n",
    ")\n"
   ]
  }
 ],
 "metadata": {
  "kernelspec": {
   "display_name": "Python 3",
   "language": "python",
   "name": "python3"
  },
  "language_info": {
   "codemirror_mode": {
    "name": "ipython",
    "version": 3
   },
   "file_extension": ".py",
   "mimetype": "text/x-python",
   "name": "python",
   "nbconvert_exporter": "python",
   "pygments_lexer": "ipython3",
   "version": "3.7.6"
  }
 },
 "nbformat": 4,
 "nbformat_minor": 4
}
