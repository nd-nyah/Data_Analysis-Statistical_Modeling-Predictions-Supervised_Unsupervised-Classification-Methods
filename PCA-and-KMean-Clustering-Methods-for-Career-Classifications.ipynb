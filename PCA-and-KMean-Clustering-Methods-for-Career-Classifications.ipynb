{
 "cells": [
  {
   "cell_type": "markdown",
   "metadata": {},
   "source": [
    "\n",
    "\n",
    "## Project Statements:\n",
    "Author: Nd Nyah\n",
    "\n",
    "- Aim\n",
    "This project is aimed at performing unsupervised classification solution using few sets of class examples labelled by an expert. Inertia method of clustering is used to find the number of clusters.\n",
    "\n",
    "- Implementations overview:\n",
    "  - Preparatory Analysis \n",
    "    - Data uploads, cleaning and conversions\n",
    "    - Statistical Data Analysis- data fits/assumptions\n",
    "  - Machine Learning methods\n",
    "    - Extended Analysis - codes\n",
    "    - performance metrics, hypothesis and testing\n",
    "  - Project challenges, exceptions and lesson learnt\n",
    "\n",
    "- Systems Requirements/ running platform\n",
    "  - This code is written using jupyter notebook running python 3.7\n",
    "  - Key libaries\n",
    "    - sklearn for model fitting and performance testing\n",
    "    - pandas and numpy for data structure manipulations\n",
    "    - scipy for statistical hypothesis testing.\n",
    "    - seaborn and matplot for visualisations\n",
    "  - It can be deploy to Azure, AWS or any open source cloud platform "
   ]
  },
  {
   "cell_type": "code",
   "execution_count": 1,
   "metadata": {},
   "outputs": [],
   "source": [
    "# systems setups\n",
    "\n",
    "# import data structure libaries\n",
    "import pandas as pd\n",
    "import numpy as np\n",
    "\n",
    "# import training model libraries\n",
    "from sklearn.ensemble import ExtraTreesClassifier\n",
    "from sklearn.decomposition import PCA\n",
    "from sklearn.cluster import KMeans\n",
    "from sklearn.preprocessing import StandardScaler\n",
    "from sklearn.metrics import davies_bouldin_score\n",
    "\n",
    "# import statistical and hypothesis testing libraries\n",
    "from scipy import stats\n",
    "import scipy.stats\n",
    "\n",
    "# import visualisations libraries\n",
    "import matplotlib.pyplot as plt\n",
    "from IPython.display import clear_output\n",
    "import seaborn as sns\n",
    "\n",
    "#set fiqure size to control all plt plottings\n",
    "plt.rcParams['figure.figsize']=(10,5)\n"
   ]
  },
  {
   "cell_type": "markdown",
   "metadata": {},
   "source": [
    "### Preparatory Analysis \n",
    "    - Data upload,clean, select the required classes, and perform conversions\n",
    "    - Statistical Data Analysis- data fits/assumptions"
   ]
  },
  {
   "cell_type": "code",
   "execution_count": 89,
   "metadata": {
    "scrolled": false
   },
   "outputs": [
    {
     "name": "stdout",
     "output_type": "stream",
     "text": [
      "26\n"
     ]
    },
    {
     "data": {
      "text/plain": [
       "Index(['Profession', 'Industry'], dtype='object')"
      ]
     },
     "execution_count": 89,
     "metadata": {},
     "output_type": "execute_result"
    }
   ],
   "source": [
    "# Data upload\n",
    "df21 = pd.read_csv('TrainData_ProfessionbyIndustry.csv', skiprows=0) # make skip row =0 so that you can see the headlines\n",
    "df2 = df21.dropna()  # remove rows with any null values\n",
    "\n",
    "# visualize columns variables and the length of the dataset(df2)\n",
    "print(len(df2))\n",
    "df2.columns   # this is useful to understand the data variable and naming convention \n",
    "\n",
    "#output explanation\n",
    "# string category of JobTitle"
   ]
  },
  {
   "cell_type": "code",
   "execution_count": 90,
   "metadata": {},
   "outputs": [
    {
     "name": "stdout",
     "output_type": "stream",
     "text": [
      "<seaborn.axisgrid.FacetGrid object at 0x000002A78028BDC8>\n"
     ]
    },
    {
     "data": {
      "image/png": "[encoded data removed]",
      "text/plain": [
       "<Figure size 360x360 with 1 Axes>"
      ]
     },
     "metadata": {
      "needs_background": "light"
     },
     "output_type": "display_data"
    }
   ],
   "source": [
    "# Bar chart visualisation for data cleaning\n",
    "\n",
    "output = sns.displot(data=df2, x=\"Industry\")\n",
    "print(output)\n",
    "\n",
    "# output explanations:\n",
    "#- this a string category variables with four classes\n",
    "#- the last class is not among the classes for clustering, and requires removal"
   ]
  },
  {
   "cell_type": "code",
   "execution_count": 91,
   "metadata": {},
   "outputs": [
    {
     "name": "stdout",
     "output_type": "stream",
     "text": [
      "<seaborn.axisgrid.FacetGrid object at 0x000002A7802F9C88>\n"
     ]
    },
    {
     "data": {
      "image/png": "[encoded data removed]",
      "text/plain": [
       "<Figure size 360x360 with 1 Axes>"
      ]
     },
     "metadata": {
      "needs_background": "light"
     },
     "output_type": "display_data"
    }
   ],
   "source": [
    "# remove the Utilities category\n",
    "\n",
    "df_scu =[]\n",
    "\n",
    "for i, row in df2.iterrows():\n",
    "    if row['Industry'] == 'Transport':\n",
    "        df2.drop(i)\n",
    "    else:\n",
    "        df_scu1 = row\n",
    "        df_scu.append(df_scu1)\n",
    "\n",
    "\n",
    "# convert to dataframe\n",
    "df_scu2 = pd.DataFrame(df_scu, index= range(len(df_scu)))\n",
    "len(df_scu2)   # length is now 23 a from the initial size of 26\n",
    "\n",
    "output1 = sns.displot(data=df_scu2, x=\"Industry\")\n",
    "print(output1)"
   ]
  },
  {
   "cell_type": "code",
   "execution_count": 92,
   "metadata": {
    "scrolled": true
   },
   "outputs": [
    {
     "data": {
      "text/html": [
       "<div>\n",
       "<style scoped>\n",
       "    .dataframe tbody tr th:only-of-type {\n",
       "        vertical-align: middle;\n",
       "    }\n",
       "\n",
       "    .dataframe tbody tr th {\n",
       "        vertical-align: top;\n",
       "    }\n",
       "\n",
       "    .dataframe thead th {\n",
       "        text-align: right;\n",
       "    }\n",
       "</style>\n",
       "<table border=\"1\" class=\"dataframe\">\n",
       "  <thead>\n",
       "    <tr style=\"text-align: right;\">\n",
       "      <th></th>\n",
       "      <th>Proff_Autoclenz car valeter</th>\n",
       "      <th>Proff_Car valeter</th>\n",
       "      <th>Proff_Carpenter</th>\n",
       "      <th>Proff_Civil engi</th>\n",
       "      <th>Proff_Decorator</th>\n",
       "      <th>Proff_Electrician</th>\n",
       "      <th>Proff_Ganger</th>\n",
       "      <th>Proff_Gas engineer</th>\n",
       "      <th>Proff_Heating engineer</th>\n",
       "      <th>Proff_Joinery</th>\n",
       "      <th>...</th>\n",
       "      <th>Proff_Plumber</th>\n",
       "      <th>Proff_Scaffolder</th>\n",
       "      <th>Proff_Social worker</th>\n",
       "      <th>Proff_Steel fixe</th>\n",
       "      <th>Proff_Trackman</th>\n",
       "      <th>Proff_Traffic ma</th>\n",
       "      <th>Proff_Welder</th>\n",
       "      <th>Ind_Construction</th>\n",
       "      <th>Ind_Services</th>\n",
       "      <th>Ind_Utilities</th>\n",
       "    </tr>\n",
       "  </thead>\n",
       "  <tbody>\n",
       "    <tr>\n",
       "      <th>0</th>\n",
       "      <td>0</td>\n",
       "      <td>1</td>\n",
       "      <td>0</td>\n",
       "      <td>0</td>\n",
       "      <td>0</td>\n",
       "      <td>0</td>\n",
       "      <td>0</td>\n",
       "      <td>0</td>\n",
       "      <td>0</td>\n",
       "      <td>0</td>\n",
       "      <td>...</td>\n",
       "      <td>0</td>\n",
       "      <td>0</td>\n",
       "      <td>0</td>\n",
       "      <td>0</td>\n",
       "      <td>0</td>\n",
       "      <td>0</td>\n",
       "      <td>0</td>\n",
       "      <td>0</td>\n",
       "      <td>1</td>\n",
       "      <td>0</td>\n",
       "    </tr>\n",
       "    <tr>\n",
       "      <th>1</th>\n",
       "      <td>0</td>\n",
       "      <td>0</td>\n",
       "      <td>0</td>\n",
       "      <td>0</td>\n",
       "      <td>0</td>\n",
       "      <td>0</td>\n",
       "      <td>0</td>\n",
       "      <td>0</td>\n",
       "      <td>0</td>\n",
       "      <td>0</td>\n",
       "      <td>...</td>\n",
       "      <td>0</td>\n",
       "      <td>0</td>\n",
       "      <td>0</td>\n",
       "      <td>0</td>\n",
       "      <td>0</td>\n",
       "      <td>0</td>\n",
       "      <td>0</td>\n",
       "      <td>0</td>\n",
       "      <td>1</td>\n",
       "      <td>0</td>\n",
       "    </tr>\n",
       "  </tbody>\n",
       "</table>\n",
       "<p>2 rows × 26 columns</p>\n",
       "</div>"
      ],
      "text/plain": [
       "   Proff_Autoclenz car valeter  Proff_Car valeter  Proff_Carpenter  \\\n",
       "0                            0                  1                0   \n",
       "1                            0                  0                0   \n",
       "\n",
       "   Proff_Civil engi  Proff_Decorator  Proff_Electrician  Proff_Ganger  \\\n",
       "0                 0                0                  0             0   \n",
       "1                 0                0                  0             0   \n",
       "\n",
       "   Proff_Gas engineer  Proff_Heating engineer  Proff_Joinery  ...  \\\n",
       "0                   0                       0              0  ...   \n",
       "1                   0                       0              0  ...   \n",
       "\n",
       "   Proff_Plumber  Proff_Scaffolder  Proff_Social worker  Proff_Steel fixe  \\\n",
       "0              0                 0                    0                 0   \n",
       "1              0                 0                    0                 0   \n",
       "\n",
       "   Proff_Trackman  Proff_Traffic ma  Proff_Welder  Ind_Construction  \\\n",
       "0               0                 0             0                 0   \n",
       "1               0                 0             0                 0   \n",
       "\n",
       "   Ind_Services  Ind_Utilities  \n",
       "0             1              0  \n",
       "1             1              0  \n",
       "\n",
       "[2 rows x 26 columns]"
      ]
     },
     "execution_count": 92,
     "metadata": {},
     "output_type": "execute_result"
    }
   ],
   "source": [
    "# conversion of category to numeric variables using one-hot-encoding\n",
    "data21 = pd.concat([df_scu2.drop('Profession', axis=1), pd.get_dummies(df_scu2['Profession'],prefix='Proff')], axis=1)\n",
    "Ind= data21.Industry.map({'Services': 1, 'Construction': 2, 'Utilities': 3})\n",
    "data22 = pd.concat([data21.drop('Industry', axis = 1),Ind,pd.get_dummies(data21['Industry'],prefix='Ind')], axis =1)\n",
    "data23= data22.drop('Industry', axis =1) # final outcome with industry weights\n",
    "data23.head(2)"
   ]
  },
  {
   "cell_type": "code",
   "execution_count": 93,
   "metadata": {},
   "outputs": [
    {
     "name": "stdout",
     "output_type": "stream",
     "text": [
      "AxesSubplot(0.125,0.125;0.775x0.755)\n"
     ]
    },
    {
     "data": {
      "image/png": "[encoded data removed]",
      "text/plain": [
       "<Figure size 720x360 with 1 Axes>"
      ]
     },
     "metadata": {
      "needs_background": "light"
     },
     "output_type": "display_data"
    }
   ],
   "source": [
    "# check for outlier on the dataset\n",
    "\n",
    "data2plt = sns.boxplot(x=data22['Industry'])\n",
    "print(data2plt)\n"
   ]
  },
  {
   "cell_type": "markdown",
   "metadata": {},
   "source": [
    "## Machine Learning methods\n",
    "    - Extended Analysis \n",
    "       - scaling, features transformation/ reduction\n",
    "       - clusters modeling\n",
    "    - performance metrics\n",
    "      - testing, hypothesis"
   ]
  },
  {
   "cell_type": "code",
   "execution_count": 94,
   "metadata": {},
   "outputs": [
    {
     "name": "stdout",
     "output_type": "stream",
     "text": [
      "(23, 26)\n"
     ]
    },
    {
     "data": {
      "text/plain": [
       "array([-0.21320072,  4.69041576, -0.21320072, -0.21320072, -0.21320072,\n",
       "       -0.21320072, -0.21320072, -0.21320072, -0.21320072, -0.21320072,\n",
       "       -0.21320072, -0.21320072, -0.21320072, -0.21320072, -0.21320072,\n",
       "       -0.21320072, -0.21320072, -0.21320072, -0.21320072, -0.21320072,\n",
       "       -0.21320072, -0.21320072, -0.21320072, -0.87705802,  0.95742711,\n",
       "       -0.21320072])"
      ]
     },
     "execution_count": 94,
     "metadata": {},
     "output_type": "execute_result"
    }
   ],
   "source": [
    "# Numeric variable scaling to avoid overshooting of one variable against another\n",
    "\n",
    "# target variable (yc)\n",
    "target_name2 = 'Industry'\n",
    "yc = data21[target_name2]\n",
    "\n",
    "# data2 scaling - \n",
    "# standard score(zcore) assumption: Xc1 follows a normal distribution with mean:0 and std:1\n",
    "Std_scaler = StandardScaler()\n",
    "Xc1 = Std_scaler.fit_transform(data23)\n",
    "Xc = stats.zscore(Xc1) \n",
    "\n",
    "print(Xc.shape)     # shape of the scaled data\n",
    "Xc[0,:]              # sample from the first row and all coloumns"
   ]
  },
  {
   "cell_type": "code",
   "execution_count": 95,
   "metadata": {},
   "outputs": [
    {
     "data": {
      "text/html": [
       "<div>\n",
       "<style scoped>\n",
       "    .dataframe tbody tr th:only-of-type {\n",
       "        vertical-align: middle;\n",
       "    }\n",
       "\n",
       "    .dataframe tbody tr th {\n",
       "        vertical-align: top;\n",
       "    }\n",
       "\n",
       "    .dataframe thead th {\n",
       "        text-align: right;\n",
       "    }\n",
       "</style>\n",
       "<table border=\"1\" class=\"dataframe\">\n",
       "  <thead>\n",
       "    <tr style=\"text-align: right;\">\n",
       "      <th></th>\n",
       "      <th>Pc1</th>\n",
       "      <th>Pc2</th>\n",
       "    </tr>\n",
       "  </thead>\n",
       "  <tbody>\n",
       "    <tr>\n",
       "      <th>0</th>\n",
       "      <td>-1.619891</td>\n",
       "      <td>-0.256202</td>\n",
       "    </tr>\n",
       "    <tr>\n",
       "      <th>1</th>\n",
       "      <td>-1.619891</td>\n",
       "      <td>-0.256202</td>\n",
       "    </tr>\n",
       "  </tbody>\n",
       "</table>\n",
       "</div>"
      ],
      "text/plain": [
       "        Pc1       Pc2\n",
       "0 -1.619891 -0.256202\n",
       "1 -1.619891 -0.256202"
      ]
     },
     "execution_count": 95,
     "metadata": {},
     "output_type": "execute_result"
    }
   ],
   "source": [
    "# Features transformation and reduction using PCA - to select most important components from the variables\n",
    "# PCA assumption : the input Xc is the informative comprising of the main information and noise portion\n",
    "\n",
    "# reduced to 2 columns for scatter ploting\n",
    "pca = PCA(n_components=2, svd_solver='full')\n",
    "Xc_pca = pca.fit(Xc).transform(Xc)\n",
    "\n",
    "# convert to dataframe\n",
    "Xc_pca_df = pd.DataFrame(Xc_pca).rename(columns={ 0: 'Pc1', 1: 'Pc2'}) \n",
    "Xc_pca_df.head(2)"
   ]
  },
  {
   "cell_type": "code",
   "execution_count": 96,
   "metadata": {},
   "outputs": [
    {
     "data": {
      "text/plain": [
       "<AxesSubplot:>"
      ]
     },
     "execution_count": 96,
     "metadata": {},
     "output_type": "execute_result"
    },
    {
     "data": {
      "image/png": "[encoded data removed]",
      "text/plain": [
       "<Figure size 720x360 with 1 Axes>"
      ]
     },
     "metadata": {
      "needs_background": "light"
     },
     "output_type": "display_data"
    }
   ],
   "source": [
    "# scatter plot visualisation of PCA data distributions\n",
    "\n",
    "#sns.scatterplot(principal components 0,and 1)\n",
    "sns.scatterplot(data=Xc_pca)"
   ]
  },
  {
   "cell_type": "code",
   "execution_count": 97,
   "metadata": {},
   "outputs": [
    {
     "data": {
      "image/png": "[encoded data removed]",
      "text/plain": [
       "<Figure size 720x360 with 1 Axes>"
      ]
     },
     "metadata": {
      "needs_background": "light"
     },
     "output_type": "display_data"
    }
   ],
   "source": [
    "# choosing the best number of clusters\n",
    "\n",
    "Error = []\n",
    "\n",
    "for i in range(1, 6):\n",
    "    kmeans = KMeans(n_clusters = i).fit(Xc_pca)\n",
    "    kmeans.fit(Xc_pca)\n",
    "    Error.append(kmeans.inertia_)\n",
    "import matplotlib.pyplot as plt\n",
    "y3= plt.plot(range(1, 6), Error)\n",
    "y3= plt.title('Elbow method')\n",
    "y3= plt.xlabel('No of clusters')\n",
    "y3= plt.ylabel('Error')\n",
    "\n",
    "# output explanation\n",
    "# - inertia minimises the centroid movemnt over data point\n",
    "# - the best k cluster is found with an elbow point label with lowest possible error, which begins to be stable over k\n",
    "# - 3 clusters are choosen for the labeling of new samples"
   ]
  },
  {
   "cell_type": "code",
   "execution_count": 98,
   "metadata": {},
   "outputs": [
    {
     "name": "stdout",
     "output_type": "stream",
     "text": [
      "Prediction Score is: 0.000000002999\n"
     ]
    }
   ],
   "source": [
    "# Modeling and Methods using Kmeans and PCA features\n",
    "\n",
    "# create an instance of cluster\n",
    "km = KMeans(n_clusters = 3, random_state=5, max_iter=500)\n",
    "\n",
    "# model fitting and evaluation\n",
    "kmModel = km.fit(Xc_pca)\n",
    "prediction_score = davies_bouldin_score(Xc_pca, kmModel.labels_)\n",
    "\n",
    "# metric: evaluation using propability score index strength (-1 low or +1 high)\n",
    "# the lower the score index, the better the performance\n",
    "print('Prediction Score is: {0:0.12f}'.format(prediction_score))"
   ]
  },
  {
   "cell_type": "code",
   "execution_count": 106,
   "metadata": {},
   "outputs": [],
   "source": [
    "# tabular visualisation of generated clusters against each category of Industry\n",
    "\n",
    "df_scu2['clusters']= kmModel.labels_\n",
    "#df_scu2.head(2)"
   ]
  },
  {
   "cell_type": "code",
   "execution_count": 100,
   "metadata": {},
   "outputs": [
    {
     "data": {
      "text/html": [
       "<div>\n",
       "<style scoped>\n",
       "    .dataframe tbody tr th:only-of-type {\n",
       "        vertical-align: middle;\n",
       "    }\n",
       "\n",
       "    .dataframe tbody tr th {\n",
       "        vertical-align: top;\n",
       "    }\n",
       "\n",
       "    .dataframe thead th {\n",
       "        text-align: right;\n",
       "    }\n",
       "</style>\n",
       "<table border=\"1\" class=\"dataframe\">\n",
       "  <thead>\n",
       "    <tr style=\"text-align: right;\">\n",
       "      <th>col_0</th>\n",
       "      <th>0</th>\n",
       "      <th>1</th>\n",
       "      <th>2</th>\n",
       "    </tr>\n",
       "    <tr>\n",
       "      <th>Industry</th>\n",
       "      <th></th>\n",
       "      <th></th>\n",
       "      <th></th>\n",
       "    </tr>\n",
       "  </thead>\n",
       "  <tbody>\n",
       "    <tr>\n",
       "      <th>Construction</th>\n",
       "      <td>0</td>\n",
       "      <td>10</td>\n",
       "      <td>0</td>\n",
       "    </tr>\n",
       "    <tr>\n",
       "      <th>Services</th>\n",
       "      <td>12</td>\n",
       "      <td>0</td>\n",
       "      <td>0</td>\n",
       "    </tr>\n",
       "    <tr>\n",
       "      <th>Utilities</th>\n",
       "      <td>0</td>\n",
       "      <td>0</td>\n",
       "      <td>1</td>\n",
       "    </tr>\n",
       "  </tbody>\n",
       "</table>\n",
       "</div>"
      ],
      "text/plain": [
       "col_0          0   1  2\n",
       "Industry               \n",
       "Construction   0  10  0\n",
       "Services      12   0  0\n",
       "Utilities      0   0  1"
      ]
     },
     "execution_count": 100,
     "metadata": {},
     "output_type": "execute_result"
    }
   ],
   "source": [
    "# crosstab tabular visualisation showing all the expert labels for 23 - observations and their respective clusters\n",
    "\n",
    "# 12 observations from Services belongs to cluster 0 - (0: Construction, 12:Services, 0: Utilities)\n",
    "# 10 observations from Construction belongs to cluster 1  - (10: Construction, 0:Services, 0: Utilities) )\n",
    "# 1 observation from Utilities belongs to cluster 2 - (0: Construction, 0:Services, 1: Utilities))\n",
    "\n",
    "pd.crosstab(yc, kmModel.labels_)"
   ]
  },
  {
   "cell_type": "code",
   "execution_count": 101,
   "metadata": {},
   "outputs": [
    {
     "name": "stdout",
     "output_type": "stream",
     "text": [
      "[[-1.6198907  -0.25620196]\n",
      " [ 1.9114982  -0.37633651]\n",
      " [ 0.32370635  6.83778868]]\n"
     ]
    }
   ],
   "source": [
    "# generated centriod from clusters\n",
    "\n",
    "Cent_c = kmModel.cluster_centers_   # 26 columns out of 26 columns for visualisation\n",
    "print(Cent_c)"
   ]
  },
  {
   "cell_type": "code",
   "execution_count": 102,
   "metadata": {},
   "outputs": [
    {
     "data": {
      "text/plain": [
       "<matplotlib.legend.Legend at 0x2a7c21a5988>"
      ]
     },
     "execution_count": 102,
     "metadata": {},
     "output_type": "execute_result"
    },
    {
     "data": {
      "image/png": "[encoded data removed]",
      "text/plain": [
       "<Figure size 720x360 with 1 Axes>"
      ]
     },
     "metadata": {
      "needs_background": "light"
     },
     "output_type": "display_data"
    }
   ],
   "source": [
    "# visualization of clusters against the extracted PCA features from train cases\n",
    "# to show the distributions of PCA train data points around the centroid\n",
    "\n",
    "Services = Xc_pca_df[df_scu2.clusters==0] # derived from cluster model\n",
    "Construction = Xc_pca_df[df_scu2.clusters==1] # derived from cluster model\n",
    "Utilities = Xc_pca_df[df_scu2.clusters==2] # derived from cluster model\n",
    "\n",
    "plt.scatter(Services['Pc1'], Services['Pc2'], color = 'blue' )  # pc1 and pc2 from new data \n",
    "plt.scatter(Construction['Pc1'], Construction['Pc2'], color = 'yellow' ) # pc1 and pc2 from new data\n",
    "plt.scatter(Utilities['Pc1'], Utilities['Pc2'], color = 'green' ) # pc1 and pc2 from new data\n",
    "\n",
    "plt.scatter(Cent_c[0:,0], Cent_c[0:,1], color = 'red', marker ='*', label='Centriod_Services') # from the cluster model\n",
    "plt.scatter(Cent_c[1:,0], Cent_c[1:,1],  color = 'black', marker ='*', label='Centriod_Construction') # from the cluster model\n",
    "plt.scatter(Cent_c[2:,0], Cent_c[2:,1],  color = 'orange', marker ='*', label='Centriod_Utilities') # from the cluster model\n",
    "\n",
    "plt.legend()"
   ]
  },
  {
   "cell_type": "code",
   "execution_count": 103,
   "metadata": {},
   "outputs": [],
   "source": [
    "# preprocess of new dataset for testing using the same steps used on the training data preparation\n",
    "\n",
    "df3 = pd.read_csv('TestData-Profession.csv', skiprows=0) # make skip row =0 so that you can see the headlines\n",
    "df4 = pd.concat([df3.drop('Profession', axis=1), pd.get_dummies(df3['Profession'],prefix='Profession')], axis=1)\n",
    "X_test1 = df4.dropna()\n",
    "\n",
    "target_cols3 = X_test1.columns \n",
    "\n",
    "# scaling\n",
    "Std_scaler = StandardScaler()\n",
    "tst_sample = Std_scaler.fit_transform(X_test1[target_cols3])\n",
    "\n",
    "# reduced to 2 columns for scatter ploting\n",
    "pca = PCA(n_components=2, svd_solver='full')\n",
    "tst_pca = pca.fit(tst_sample).transform(tst_sample)\n",
    "tst_pca_n= stats.zscore(tst_pca)\n",
    "\n",
    "# convert to dataframe\n",
    "tst_pca_df = pd.DataFrame(tst_pca_n).rename(columns={ 0: 'Pc1t', 1: 'Pc2t'}) \n",
    "  "
   ]
  },
  {
   "cell_type": "code",
   "execution_count": 107,
   "metadata": {},
   "outputs": [
    {
     "name": "stdout",
     "output_type": "stream",
     "text": [
      "Prediction Score for test data is: 1.34672\n"
     ]
    }
   ],
   "source": [
    "# prediction of new categories from the test data using the expert labelled classes\n",
    "\n",
    "# prediction using a trained model\n",
    "tst_predicted_clusters = kmModel.predict(tst_pca_n)\n",
    "\n",
    "# prediction score index- the smaller the index the better the performance of classification\n",
    "prediction_score1 = davies_bouldin_score(tst_pca_n, y_predicted_test)\n",
    "print('Prediction Score for test data is: {0:0.5f}'.format(prediction_score1))\n",
    "\n",
    "\n",
    "df3['Classified_Output_Clusters'] = tst_predicted_clusters\n",
    "#df3.head(2)\n",
    "\n",
    "# cluster names\n",
    "# 0 - Services\n",
    "# 1 - Constructions\n",
    "# 2 - Utilities"
   ]
  },
  {
   "cell_type": "code",
   "execution_count": 105,
   "metadata": {},
   "outputs": [
    {
     "data": {
      "text/html": [
       "<div>\n",
       "<style scoped>\n",
       "    .dataframe tbody tr th:only-of-type {\n",
       "        vertical-align: middle;\n",
       "    }\n",
       "\n",
       "    .dataframe tbody tr th {\n",
       "        vertical-align: top;\n",
       "    }\n",
       "\n",
       "    .dataframe thead th {\n",
       "        text-align: right;\n",
       "    }\n",
       "</style>\n",
       "<table border=\"1\" class=\"dataframe\">\n",
       "  <thead>\n",
       "    <tr style=\"text-align: right;\">\n",
       "      <th>col_0</th>\n",
       "      <th>0</th>\n",
       "      <th>1</th>\n",
       "      <th>2</th>\n",
       "    </tr>\n",
       "    <tr>\n",
       "      <th>Classified_Output_Clusters</th>\n",
       "      <th></th>\n",
       "      <th></th>\n",
       "      <th></th>\n",
       "    </tr>\n",
       "  </thead>\n",
       "  <tbody>\n",
       "    <tr>\n",
       "      <th>Construction</th>\n",
       "      <td>0</td>\n",
       "      <td>115</td>\n",
       "      <td>0</td>\n",
       "    </tr>\n",
       "    <tr>\n",
       "      <th>Services</th>\n",
       "      <td>4241</td>\n",
       "      <td>0</td>\n",
       "      <td>0</td>\n",
       "    </tr>\n",
       "    <tr>\n",
       "      <th>Utilities</th>\n",
       "      <td>0</td>\n",
       "      <td>0</td>\n",
       "      <td>5</td>\n",
       "    </tr>\n",
       "  </tbody>\n",
       "</table>\n",
       "</div>"
      ],
      "text/plain": [
       "col_0                          0    1  2\n",
       "Classified_Output_Clusters              \n",
       "Construction                   0  115  0\n",
       "Services                    4241    0  0\n",
       "Utilities                      0    0  5"
      ]
     },
     "execution_count": 105,
     "metadata": {},
     "output_type": "execute_result"
    }
   ],
   "source": [
    "# crosstab tabular visualisation showing all the newly labels of n- observations with their respective clusters\n",
    "\n",
    "# 115 observations from Services belongs to cluster 0 - (0: Construction, 12:Services, 0: Utilities)\n",
    "# 4241 observations from Construction belongs to cluster 1  - (10: Construction, 0:Services, 0: Utilities) )\n",
    "# 5 observation from Utilities belongs to cluster 2 - (0: Construction, 0:Services, 1: Utilities))\n",
    "\n",
    "Industry_labels= df3.Classified_Output_Clusters.map({0: 'Services', 1: 'Construction', 2: 'Utilities'})\n",
    "pd.crosstab(Industry_labels, tst_predicted_clusters)\n",
    "\n",
    "\n",
    "# output explanations\n",
    "# - there is a distinct separation of classes, meaning the algorithm has converged using k-3 clusters\n",
    "# - all new samples are clearly label, meaning the labels are \n"
   ]
  },
  {
   "cell_type": "code",
   "execution_count": 108,
   "metadata": {},
   "outputs": [
    {
     "data": {
      "text/plain": [
       "<matplotlib.legend.Legend at 0x2a7804b6a48>"
      ]
     },
     "execution_count": 108,
     "metadata": {},
     "output_type": "execute_result"
    },
    {
     "data": {
      "image/png": "[encoded data removed]",
      "text/plain": [
       "<Figure size 720x360 with 1 Axes>"
      ]
     },
     "metadata": {
      "needs_background": "light"
     },
     "output_type": "display_data"
    }
   ],
   "source": [
    "# visualization of clusters against the extracted PCA features from test cases\n",
    "# to show the distributions of PCA test data points around the centroid\n",
    "\n",
    "Services = tst_pca_df[df3.Classified_Output_Clusters==0] # derived from cluster model\n",
    "Construction = tst_pca_df[df3.Classified_Output_Clusters==1] # derived from cluster model\n",
    "Utilities = tst_pca_df[df3.Classified_Output_Clusters==2] # derived from cluster model\n",
    "\n",
    "plt.scatter(Services['Pc1t'], Services['Pc2t'], color = 'blue' )  # pc1 and pc2 from new data \n",
    "plt.scatter(Construction['Pc1t'], Construction['Pc2t'], color = 'yellow' ) # pc1 and pc2 from new data\n",
    "plt.scatter(Utilities['Pc1t'], Utilities['Pc2t'], color = 'green' ) # pc1 and pc2 from new data\n",
    "\n",
    "\n",
    "plt.scatter(Cent_c[0:,0], Cent_c[0:,1], color = 'red', marker ='*', label='Centriod_Services') # from the cluster model\n",
    "plt.scatter(Cent_c[1:,0], Cent_c[1:,1],  color = 'black', marker ='*', label='Centriod_Construction') # from the cluster model\n",
    "plt.scatter(Cent_c[2:,0], Cent_c[2:,1],  color = 'orange', marker ='*', label='Centriod_Utilities') # from the cluster model\n",
    "plt.legend()\n",
    "\n",
    "\n",
    "# outputs explanations\n",
    "# - related professions clustered around similar centroid point\n",
    "# - the closer the point to the centre the better the degree of similarity"
   ]
  }
 ],
 "metadata": {
  "kernelspec": {
   "display_name": "tensorflow37",
   "language": "python",
   "name": "py37tf"
  },
  "language_info": {
   "codemirror_mode": {
    "name": "ipython",
    "version": 3
   },
   "file_extension": ".py",
   "mimetype": "text/x-python",
   "name": "python",
   "nbconvert_exporter": "python",
   "pygments_lexer": "ipython3",
   "version": "3.7.9"
  }
 },
 "nbformat": 4,
 "nbformat_minor": 4
}
